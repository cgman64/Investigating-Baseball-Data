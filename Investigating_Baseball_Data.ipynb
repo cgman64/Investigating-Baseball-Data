{
 "cells": [
  {
   "cell_type": "markdown",
   "metadata": {},
   "source": [
    "# Project 2 - Investigating Baseball Data\n",
    "\n",
    "Christian Guzman\n",
    "\n",
    "May 2017"
   ]
  },
  {
   "cell_type": "markdown",
   "metadata": {},
   "source": [
    "## I. **Introduction**\n",
    "\n",
    "In this study I will look at the characteristics of higher paid players and how their metrics compare. I will also look at the relationships between variables, specifically homeruns and other batting statistics.\n"
   ]
  },
  {
   "cell_type": "markdown",
   "metadata": {},
   "source": [
    "**Questions**\n",
    "1. What are the characteristics of baseball players with the highest salaries?\n",
    "    * Do players with higher salaries truly have more homeruns (and other stats)?\n",
    "2. What relationships are there with Homeruns and other metrics?\n",
    "    * Do players with more homeruns, get walked(IBB) or hit by pitches(HBP) more?\n",
    "    \n",
    "    \n",
    "These are the broad questions that I will attempt to answer in this study. I will look at what characteristics the players with higher salaries have, show they have more homeruns on average. After this I will plot homeruns against other variables in scatter plots, and calculate correlations."
   ]
  },
  {
   "cell_type": "markdown",
   "metadata": {},
   "source": [
    "## II. **Data Wrangling**"
   ]
  },
  {
   "cell_type": "code",
   "execution_count": 92,
   "metadata": {
    "collapsed": true
   },
   "outputs": [],
   "source": [
    "import pandas as pd\n",
    "import numpy as np\n",
    "import os"
   ]
  },
  {
   "cell_type": "code",
   "execution_count": 93,
   "metadata": {
    "collapsed": false
   },
   "outputs": [
    {
     "name": "stdout",
     "output_type": "stream",
     "text": [
      "C:\\Users\\cguzm_000\\Documents\\baseballdatabank-2017.1\\core\n"
     ]
    }
   ],
   "source": [
    "print(os.getcwd())"
   ]
  },
  {
   "cell_type": "code",
   "execution_count": 94,
   "metadata": {
    "collapsed": true
   },
   "outputs": [],
   "source": [
    "path = 'C:\\\\Users\\\\cguzm_000\\\\Documents\\\\baseballdatabank-2017.1\\\\core'\n",
    "os.chdir(path)"
   ]
  },
  {
   "cell_type": "code",
   "execution_count": 95,
   "metadata": {
    "collapsed": false
   },
   "outputs": [
    {
     "data": {
      "text/plain": [
       "['AllstarFull.csv',\n",
       " 'Appearances.csv',\n",
       " 'AwardsManagers.csv',\n",
       " 'AwardsPlayers.csv',\n",
       " 'AwardsShareManagers.csv',\n",
       " 'AwardsSharePlayers.csv',\n",
       " 'Batting.csv',\n",
       " 'BattingPost.csv',\n",
       " 'CollegePlaying.csv',\n",
       " 'Fielding.csv',\n",
       " 'FieldingOF.csv',\n",
       " 'FieldingOFsplit.csv',\n",
       " 'FieldingPost.csv',\n",
       " 'HallOfFame.csv',\n",
       " 'HomeGames.csv',\n",
       " 'Managers.csv',\n",
       " 'ManagersHalf.csv',\n",
       " 'Master.csv',\n",
       " 'Parks.csv',\n",
       " 'Pitching.csv',\n",
       " 'PitchingPost.csv',\n",
       " 'readme2014.txt',\n",
       " 'Salaries.csv',\n",
       " 'Schools.csv',\n",
       " 'SeriesPost.csv',\n",
       " 'Teams.csv',\n",
       " 'TeamsFranchises.csv',\n",
       " 'TeamsHalf.csv']"
      ]
     },
     "execution_count": 95,
     "metadata": {},
     "output_type": "execute_result"
    }
   ],
   "source": [
    "os.listdir('.')"
   ]
  },
  {
   "cell_type": "code",
   "execution_count": 96,
   "metadata": {
    "collapsed": false
   },
   "outputs": [],
   "source": [
    "# Tables to be looked at:\n",
    "# Master*, Batting*, AwardsPlayers, AllstarFull, Salaries\n",
    "\n",
    "master = pd.read_csv('Master.csv')\n",
    "batting = pd.read_csv('Batting.csv')\n",
    "pitching = pd.read_csv('Pitching.csv')\n",
    "salaries = pd.read_csv('Salaries.csv')\n",
    "awards = pd.read_csv('AwardsPlayers.csv')\n",
    "allstar = pd.read_csv('AllstarFull.csv')\n",
    "fielding = pd.read_csv('Fielding.csv')\n",
    "\n",
    "tables = [master, batting, pitching, salaries, awards, allstar, fielding]\n",
    "table_names = ['master', 'batting', 'pitching', 'salaries', 'awards', 'allstar', 'fielding']\n",
    "frames = {'Master': master, 'Batting': batting, 'Pitching': pitching, \n",
    "         'Salaries': salaries, 'Awards': awards, 'Allstar': allstar, 'Fielding': fielding}"
   ]
  },
  {
   "cell_type": "code",
   "execution_count": 8,
   "metadata": {
    "collapsed": false
   },
   "outputs": [
    {
     "name": "stdout",
     "output_type": "stream",
     "text": [
      "table master does not have column 'yearID'.\n",
      "table batting has column 'yearID'.\n",
      "table pitching has column 'yearID'.\n",
      "table salaries has column 'yearID'.\n",
      "table awards has column 'yearID'.\n",
      "table allstar has column 'yearID'.\n",
      "table fielding has column 'yearID'.\n"
     ]
    }
   ],
   "source": [
    "# Check yearID boundaries for all tables...\n",
    "i = 0\n",
    "for t in tables:\n",
    "    if 'yearID' not in t.head(0):\n",
    "        print('table ' + table_names[i] + ' does not have column \\'yearID\\'.')\n",
    "        i += 1\n",
    "    else:\n",
    "        print('table ' + table_names[i] + ' has column \\'yearID\\'.')\n",
    "        i += 1"
   ]
  },
  {
   "cell_type": "markdown",
   "metadata": {},
   "source": [
    "Looking at which data tables can be filtered by 'yearID'."
   ]
  },
  {
   "cell_type": "code",
   "execution_count": 9,
   "metadata": {
    "collapsed": false
   },
   "outputs": [
    {
     "name": "stdout",
     "output_type": "stream",
     "text": [
      "table batting oldest yearID is... 1871\n",
      "table pitching oldest yearID is... 1871\n",
      "table salaries oldest yearID is... 1985\n",
      "table awards oldest yearID is... 1877\n",
      "table allstar oldest yearID is... 1933\n",
      "table fielding oldest yearID is... 1871\n",
      "\n",
      "The latest year in these tables is 1985. As such the data will begin from there.\n"
     ]
    }
   ],
   "source": [
    "# Check min year for each table\n",
    "i = 1\n",
    "yearValues = []\n",
    "for t in tables[1:]:\n",
    "    print('table ' + table_names[i] + ' oldest yearID is... ' + str(t.yearID.min()))\n",
    "    yearValues.append(t.yearID.min())\n",
    "    i+=1\n",
    "    \n",
    "print('\\nThe latest year in these tables is ' + str(max(yearValues)) + '. As such the data will begin from there.')\n",
    "    \n"
   ]
  },
  {
   "cell_type": "markdown",
   "metadata": {
    "collapsed": true
   },
   "source": [
    "Filtering out data prior to 1985..."
   ]
  },
  {
   "cell_type": "code",
   "execution_count": 10,
   "metadata": {
    "collapsed": false
   },
   "outputs": [
    {
     "data": {
      "text/html": [
       "<div>\n",
       "<table border=\"1\" class=\"dataframe\">\n",
       "  <thead>\n",
       "    <tr style=\"text-align: right;\">\n",
       "      <th></th>\n",
       "      <th>yearID</th>\n",
       "      <th>teamID</th>\n",
       "      <th>lgID</th>\n",
       "      <th>playerID</th>\n",
       "      <th>salary</th>\n",
       "    </tr>\n",
       "  </thead>\n",
       "  <tbody>\n",
       "    <tr>\n",
       "      <th>0</th>\n",
       "      <td>1985</td>\n",
       "      <td>ATL</td>\n",
       "      <td>NL</td>\n",
       "      <td>barkele01</td>\n",
       "      <td>870000</td>\n",
       "    </tr>\n",
       "    <tr>\n",
       "      <th>1</th>\n",
       "      <td>1985</td>\n",
       "      <td>ATL</td>\n",
       "      <td>NL</td>\n",
       "      <td>bedrost01</td>\n",
       "      <td>550000</td>\n",
       "    </tr>\n",
       "    <tr>\n",
       "      <th>2</th>\n",
       "      <td>1985</td>\n",
       "      <td>ATL</td>\n",
       "      <td>NL</td>\n",
       "      <td>benedbr01</td>\n",
       "      <td>545000</td>\n",
       "    </tr>\n",
       "    <tr>\n",
       "      <th>3</th>\n",
       "      <td>1985</td>\n",
       "      <td>ATL</td>\n",
       "      <td>NL</td>\n",
       "      <td>campri01</td>\n",
       "      <td>633333</td>\n",
       "    </tr>\n",
       "    <tr>\n",
       "      <th>4</th>\n",
       "      <td>1985</td>\n",
       "      <td>ATL</td>\n",
       "      <td>NL</td>\n",
       "      <td>ceronri01</td>\n",
       "      <td>625000</td>\n",
       "    </tr>\n",
       "  </tbody>\n",
       "</table>\n",
       "</div>"
      ],
      "text/plain": [
       "   yearID teamID lgID   playerID  salary\n",
       "0    1985    ATL   NL  barkele01  870000\n",
       "1    1985    ATL   NL  bedrost01  550000\n",
       "2    1985    ATL   NL  benedbr01  545000\n",
       "3    1985    ATL   NL   campri01  633333\n",
       "4    1985    ATL   NL  ceronri01  625000"
      ]
     },
     "execution_count": 10,
     "metadata": {},
     "output_type": "execute_result"
    }
   ],
   "source": [
    "salaries.head()"
   ]
  },
  {
   "cell_type": "code",
   "execution_count": 11,
   "metadata": {
    "collapsed": true
   },
   "outputs": [],
   "source": [
    "# fromYear function will make data from the year \n",
    "def fromYear(tables, year):\n",
    "    i = 1\n",
    "    global tables_fromYear, table_names_fromYear\n",
    "    tables_fromYear = []\n",
    "    table_names_fromYear = []\n",
    "    for t in tables[1:]:\n",
    "        t = t[t.yearID >= year]\n",
    "        tables_fromYear.append(t)\n",
    "        table_names_fromYear.append(table_names[i])\n",
    "        print ('table ' + str(table_names[i]) + ' has ' + str(len(t)) + ' rows, beginning from ' + str(year) + '.')\n",
    "        i+=1"
   ]
  },
  {
   "cell_type": "code",
   "execution_count": 12,
   "metadata": {
    "collapsed": false
   },
   "outputs": [
    {
     "name": "stdout",
     "output_type": "stream",
     "text": [
      "table batting has 40577 rows, beginning from 1985.\n",
      "table pitching has 19983 rows, beginning from 1985.\n",
      "table salaries has 26428 rows, beginning from 1985.\n",
      "table awards has 2398 rows, beginning from 1985.\n",
      "table allstar has 2125 rows, beginning from 1985.\n",
      "table fielding has 52558 rows, beginning from 1985.\n"
     ]
    }
   ],
   "source": [
    "fromYear(tables, year=1985)"
   ]
  },
  {
   "cell_type": "code",
   "execution_count": 13,
   "metadata": {
    "collapsed": false
   },
   "outputs": [
    {
     "data": {
      "text/plain": [
       "['batting', 'pitching', 'salaries', 'awards', 'allstar', 'fielding']"
      ]
     },
     "execution_count": 13,
     "metadata": {},
     "output_type": "execute_result"
    }
   ],
   "source": [
    "table_names_fromYear"
   ]
  },
  {
   "cell_type": "code",
   "execution_count": 14,
   "metadata": {
    "collapsed": false
   },
   "outputs": [
    {
     "name": "stdout",
     "output_type": "stream",
     "text": [
      "variable 'tables_1985' contains a list\n",
      " of tables with data having yearID greater than or equal to 1985\n"
     ]
    }
   ],
   "source": [
    "print('variable \\'tables_1985\\' contains a list\\n of tables with data having yearID greater than or equal to 1985')"
   ]
  },
  {
   "cell_type": "code",
   "execution_count": 15,
   "metadata": {
    "collapsed": false
   },
   "outputs": [],
   "source": [
    "batting1985 = tables_fromYear[0]\n",
    "pitching1985 = tables_fromYear[1]\n",
    "awards1985 = tables_fromYear[3]\n",
    "allstar1985 = tables_fromYear[4]\n",
    "fielding1985 = tables_fromYear[5]"
   ]
  },
  {
   "cell_type": "code",
   "execution_count": 16,
   "metadata": {
    "collapsed": false
   },
   "outputs": [
    {
     "data": {
      "text/plain": [
       "array(['playerID', 'yearID', 'stint', 'teamID', 'lgID', 'G', 'AB', 'R',\n",
       "       'H', '2B', '3B', 'HR', 'RBI', 'SB', 'CS', 'BB', 'SO', 'IBB', 'HBP',\n",
       "       'SH', 'SF', 'GIDP'], dtype=object)"
      ]
     },
     "execution_count": 16,
     "metadata": {},
     "output_type": "execute_result"
    }
   ],
   "source": [
    "batting1985.columns.values"
   ]
  },
  {
   "cell_type": "code",
   "execution_count": 17,
   "metadata": {
    "collapsed": false
   },
   "outputs": [
    {
     "name": "stdout",
     "output_type": "stream",
     "text": [
      "40577\n",
      "19983\n",
      "26428\n",
      "136815\n"
     ]
    }
   ],
   "source": [
    "print(len(batting1985))\n",
    "print(len(pitching1985))\n",
    "print(len(salaries))\n",
    "print(len(fielding))"
   ]
  },
  {
   "cell_type": "markdown",
   "metadata": {},
   "source": [
    "**Choosing variables to analyze for each table.**\n",
    "1. Master:  playerID, debut, height, weight\n",
    "2. Batting: playerID, G, AB, H, HR, RBI, SB, CS, BB, SO, IBB, HBP\n",
    "3. Awards: Awards (number of awards)\n",
    "4. Allstar: Allstar (number of allstar appearances)\n",
    "5. Fielding: POS(position)"
   ]
  },
  {
   "cell_type": "code",
   "execution_count": 18,
   "metadata": {
    "collapsed": false
   },
   "outputs": [
    {
     "data": {
      "text/html": [
       "<div>\n",
       "<table border=\"1\" class=\"dataframe\">\n",
       "  <thead>\n",
       "    <tr style=\"text-align: right;\">\n",
       "      <th></th>\n",
       "      <th>playerID</th>\n",
       "      <th>debut</th>\n",
       "      <th>finalGame</th>\n",
       "      <th>weight</th>\n",
       "      <th>height</th>\n",
       "    </tr>\n",
       "  </thead>\n",
       "  <tbody>\n",
       "    <tr>\n",
       "      <th>0</th>\n",
       "      <td>aardsda01</td>\n",
       "      <td>2004-04-06</td>\n",
       "      <td>2015-08-23</td>\n",
       "      <td>215.0</td>\n",
       "      <td>75.0</td>\n",
       "    </tr>\n",
       "    <tr>\n",
       "      <th>1</th>\n",
       "      <td>aaronha01</td>\n",
       "      <td>1954-04-13</td>\n",
       "      <td>1976-10-03</td>\n",
       "      <td>180.0</td>\n",
       "      <td>72.0</td>\n",
       "    </tr>\n",
       "    <tr>\n",
       "      <th>2</th>\n",
       "      <td>aaronto01</td>\n",
       "      <td>1962-04-10</td>\n",
       "      <td>1971-09-26</td>\n",
       "      <td>190.0</td>\n",
       "      <td>75.0</td>\n",
       "    </tr>\n",
       "    <tr>\n",
       "      <th>3</th>\n",
       "      <td>aasedo01</td>\n",
       "      <td>1977-07-26</td>\n",
       "      <td>1990-10-03</td>\n",
       "      <td>190.0</td>\n",
       "      <td>75.0</td>\n",
       "    </tr>\n",
       "    <tr>\n",
       "      <th>4</th>\n",
       "      <td>abadan01</td>\n",
       "      <td>2001-09-10</td>\n",
       "      <td>2006-04-13</td>\n",
       "      <td>184.0</td>\n",
       "      <td>73.0</td>\n",
       "    </tr>\n",
       "  </tbody>\n",
       "</table>\n",
       "</div>"
      ],
      "text/plain": [
       "    playerID       debut   finalGame  weight  height\n",
       "0  aardsda01  2004-04-06  2015-08-23   215.0    75.0\n",
       "1  aaronha01  1954-04-13  1976-10-03   180.0    72.0\n",
       "2  aaronto01  1962-04-10  1971-09-26   190.0    75.0\n",
       "3   aasedo01  1977-07-26  1990-10-03   190.0    75.0\n",
       "4   abadan01  2001-09-10  2006-04-13   184.0    73.0"
      ]
     },
     "execution_count": 18,
     "metadata": {},
     "output_type": "execute_result"
    }
   ],
   "source": [
    "master = master[['playerID', 'debut', 'finalGame', 'weight', 'height']]\n",
    "master.head()"
   ]
  },
  {
   "cell_type": "markdown",
   "metadata": {},
   "source": [
    "Using debut variable, a years of experience column will be created."
   ]
  },
  {
   "cell_type": "code",
   "execution_count": 19,
   "metadata": {
    "collapsed": false
   },
   "outputs": [
    {
     "data": {
      "text/plain": [
       "19105"
      ]
     },
     "execution_count": 19,
     "metadata": {},
     "output_type": "execute_result"
    }
   ],
   "source": [
    "len(master)"
   ]
  },
  {
   "cell_type": "code",
   "execution_count": 20,
   "metadata": {
    "collapsed": false
   },
   "outputs": [
    {
     "data": {
      "text/plain": [
       "str"
      ]
     },
     "execution_count": 20,
     "metadata": {},
     "output_type": "execute_result"
    }
   ],
   "source": [
    "type(master['debut'][0])"
   ]
  },
  {
   "cell_type": "markdown",
   "metadata": {},
   "source": [
    "The debut variable is in the string format so it will have to be converted into a date time object."
   ]
  },
  {
   "cell_type": "markdown",
   "metadata": {},
   "source": [
    "With debut year extracted from string type 'debut' column years of experience can be calculated. The goal is to count the years of experience up until the beginning of the 2016 season.\n",
    "\n",
    "The extract_year function works on the 10 rows of the data it was tested on. Now to apply it to the rest of the dataset. But before this, we should check for NaN values in the debut column and remove them."
   ]
  },
  {
   "cell_type": "code",
   "execution_count": 21,
   "metadata": {
    "collapsed": false
   },
   "outputs": [
    {
     "data": {
      "text/plain": [
       "True"
      ]
     },
     "execution_count": 21,
     "metadata": {},
     "output_type": "execute_result"
    }
   ],
   "source": [
    "# Check for any null values\n",
    "master.isnull().values.any()"
   ]
  },
  {
   "cell_type": "markdown",
   "metadata": {},
   "source": [
    "Our check tells there are null values."
   ]
  },
  {
   "cell_type": "code",
   "execution_count": 22,
   "metadata": {
    "collapsed": false
   },
   "outputs": [
    {
     "name": "stdout",
     "output_type": "stream",
     "text": [
      "19105 rows before removing null values.\n",
      "18108 rows after removing null values.\n",
      "Difference in number of rows: 997\n"
     ]
    }
   ],
   "source": [
    "#Number of rows:\n",
    "#Before removing null values\n",
    "print(str(len(master)) + ' rows before removing null values.')\n",
    "#After\n",
    "print(str(len(master.dropna())) + ' rows after removing null values.')\n",
    "print('Difference in number of rows: ' + str(len(master) - len(master.dropna())))"
   ]
  },
  {
   "cell_type": "code",
   "execution_count": 23,
   "metadata": {
    "collapsed": false
   },
   "outputs": [
    {
     "data": {
      "text/html": [
       "<div>\n",
       "<table border=\"1\" class=\"dataframe\">\n",
       "  <thead>\n",
       "    <tr style=\"text-align: right;\">\n",
       "      <th></th>\n",
       "      <th>playerID</th>\n",
       "      <th>debut</th>\n",
       "      <th>finalGame</th>\n",
       "      <th>weight</th>\n",
       "      <th>height</th>\n",
       "      <th>debutYear</th>\n",
       "      <th>finalYear</th>\n",
       "    </tr>\n",
       "  </thead>\n",
       "  <tbody>\n",
       "    <tr>\n",
       "      <th>0</th>\n",
       "      <td>aardsda01</td>\n",
       "      <td>2004-04-06</td>\n",
       "      <td>2015-08-23</td>\n",
       "      <td>215.0</td>\n",
       "      <td>75.0</td>\n",
       "      <td>2004</td>\n",
       "      <td>2015</td>\n",
       "    </tr>\n",
       "    <tr>\n",
       "      <th>1</th>\n",
       "      <td>aaronha01</td>\n",
       "      <td>1954-04-13</td>\n",
       "      <td>1976-10-03</td>\n",
       "      <td>180.0</td>\n",
       "      <td>72.0</td>\n",
       "      <td>1954</td>\n",
       "      <td>1976</td>\n",
       "    </tr>\n",
       "    <tr>\n",
       "      <th>2</th>\n",
       "      <td>aaronto01</td>\n",
       "      <td>1962-04-10</td>\n",
       "      <td>1971-09-26</td>\n",
       "      <td>190.0</td>\n",
       "      <td>75.0</td>\n",
       "      <td>1962</td>\n",
       "      <td>1971</td>\n",
       "    </tr>\n",
       "    <tr>\n",
       "      <th>3</th>\n",
       "      <td>aasedo01</td>\n",
       "      <td>1977-07-26</td>\n",
       "      <td>1990-10-03</td>\n",
       "      <td>190.0</td>\n",
       "      <td>75.0</td>\n",
       "      <td>1977</td>\n",
       "      <td>1990</td>\n",
       "    </tr>\n",
       "    <tr>\n",
       "      <th>4</th>\n",
       "      <td>abadan01</td>\n",
       "      <td>2001-09-10</td>\n",
       "      <td>2006-04-13</td>\n",
       "      <td>184.0</td>\n",
       "      <td>73.0</td>\n",
       "      <td>2001</td>\n",
       "      <td>2006</td>\n",
       "    </tr>\n",
       "  </tbody>\n",
       "</table>\n",
       "</div>"
      ],
      "text/plain": [
       "    playerID       debut   finalGame  weight  height  debutYear  finalYear\n",
       "0  aardsda01  2004-04-06  2015-08-23   215.0    75.0       2004       2015\n",
       "1  aaronha01  1954-04-13  1976-10-03   180.0    72.0       1954       1976\n",
       "2  aaronto01  1962-04-10  1971-09-26   190.0    75.0       1962       1971\n",
       "3   aasedo01  1977-07-26  1990-10-03   190.0    75.0       1977       1990\n",
       "4   abadan01  2001-09-10  2006-04-13   184.0    73.0       2001       2006"
      ]
     },
     "execution_count": 23,
     "metadata": {},
     "output_type": "execute_result"
    }
   ],
   "source": [
    "master = master.dropna()\n",
    "\n",
    "def extract_year(df):\n",
    "    d = df['debut']\n",
    "    f = df['finalGame']\n",
    "\n",
    "    m0 = pd.DataFrame({\n",
    "            'debut_date': pd.to_datetime(d).dt.date,\n",
    "            'debut_year': pd.to_datetime(d).dt.year,\n",
    "            'final_date': pd.to_datetime(f).dt.date,\n",
    "            'final_year': pd.to_datetime(f).dt.year\n",
    "            })\n",
    "\n",
    "    m1 = df\n",
    "    m1.loc[:,'debutYear'] = m0['debut_year']\n",
    "    m1.loc[:,'finalYear'] = m0['final_year']\n",
    "    \n",
    "    return m1\n",
    "\n",
    "master = extract_year(master)\n",
    "master.head()"
   ]
  },
  {
   "cell_type": "markdown",
   "metadata": {},
   "source": [
    "This function will extract year from the **debut** and **finalGame** columns and create new columns **debutYear** and **finalYear** with just the years as shown in the dataframe above."
   ]
  },
  {
   "cell_type": "code",
   "execution_count": 24,
   "metadata": {
    "collapsed": false
   },
   "outputs": [
    {
     "data": {
      "text/html": [
       "<div>\n",
       "<table border=\"1\" class=\"dataframe\">\n",
       "  <thead>\n",
       "    <tr style=\"text-align: right;\">\n",
       "      <th></th>\n",
       "      <th>playerID</th>\n",
       "      <th>debutYear</th>\n",
       "      <th>finalYear</th>\n",
       "      <th>height</th>\n",
       "      <th>weight</th>\n",
       "    </tr>\n",
       "  </thead>\n",
       "  <tbody>\n",
       "    <tr>\n",
       "      <th>0</th>\n",
       "      <td>aardsda01</td>\n",
       "      <td>2004</td>\n",
       "      <td>2015</td>\n",
       "      <td>75.0</td>\n",
       "      <td>215.0</td>\n",
       "    </tr>\n",
       "    <tr>\n",
       "      <th>1</th>\n",
       "      <td>aaronha01</td>\n",
       "      <td>1954</td>\n",
       "      <td>1976</td>\n",
       "      <td>72.0</td>\n",
       "      <td>180.0</td>\n",
       "    </tr>\n",
       "    <tr>\n",
       "      <th>2</th>\n",
       "      <td>aaronto01</td>\n",
       "      <td>1962</td>\n",
       "      <td>1971</td>\n",
       "      <td>75.0</td>\n",
       "      <td>190.0</td>\n",
       "    </tr>\n",
       "    <tr>\n",
       "      <th>3</th>\n",
       "      <td>aasedo01</td>\n",
       "      <td>1977</td>\n",
       "      <td>1990</td>\n",
       "      <td>75.0</td>\n",
       "      <td>190.0</td>\n",
       "    </tr>\n",
       "    <tr>\n",
       "      <th>4</th>\n",
       "      <td>abadan01</td>\n",
       "      <td>2001</td>\n",
       "      <td>2006</td>\n",
       "      <td>73.0</td>\n",
       "      <td>184.0</td>\n",
       "    </tr>\n",
       "  </tbody>\n",
       "</table>\n",
       "</div>"
      ],
      "text/plain": [
       "    playerID  debutYear  finalYear  height  weight\n",
       "0  aardsda01       2004       2015    75.0   215.0\n",
       "1  aaronha01       1954       1976    72.0   180.0\n",
       "2  aaronto01       1962       1971    75.0   190.0\n",
       "3   aasedo01       1977       1990    75.0   190.0\n",
       "4   abadan01       2001       2006    73.0   184.0"
      ]
     },
     "execution_count": 24,
     "metadata": {},
     "output_type": "execute_result"
    }
   ],
   "source": [
    "master = master[['playerID', 'debutYear', 'finalYear', 'height', 'weight']]\n",
    "master.head()"
   ]
  },
  {
   "cell_type": "code",
   "execution_count": 25,
   "metadata": {
    "collapsed": false
   },
   "outputs": [
    {
     "data": {
      "text/html": [
       "<div>\n",
       "<table border=\"1\" class=\"dataframe\">\n",
       "  <thead>\n",
       "    <tr style=\"text-align: right;\">\n",
       "      <th></th>\n",
       "      <th>playerID</th>\n",
       "      <th>debutYear</th>\n",
       "      <th>finalYear</th>\n",
       "      <th>height</th>\n",
       "      <th>weight</th>\n",
       "      <th>career</th>\n",
       "    </tr>\n",
       "  </thead>\n",
       "  <tbody>\n",
       "    <tr>\n",
       "      <th>0</th>\n",
       "      <td>aardsda01</td>\n",
       "      <td>2004</td>\n",
       "      <td>2015</td>\n",
       "      <td>75.0</td>\n",
       "      <td>215.0</td>\n",
       "      <td>11</td>\n",
       "    </tr>\n",
       "    <tr>\n",
       "      <th>1</th>\n",
       "      <td>aaronha01</td>\n",
       "      <td>1954</td>\n",
       "      <td>1976</td>\n",
       "      <td>72.0</td>\n",
       "      <td>180.0</td>\n",
       "      <td>22</td>\n",
       "    </tr>\n",
       "    <tr>\n",
       "      <th>2</th>\n",
       "      <td>aaronto01</td>\n",
       "      <td>1962</td>\n",
       "      <td>1971</td>\n",
       "      <td>75.0</td>\n",
       "      <td>190.0</td>\n",
       "      <td>9</td>\n",
       "    </tr>\n",
       "    <tr>\n",
       "      <th>3</th>\n",
       "      <td>aasedo01</td>\n",
       "      <td>1977</td>\n",
       "      <td>1990</td>\n",
       "      <td>75.0</td>\n",
       "      <td>190.0</td>\n",
       "      <td>13</td>\n",
       "    </tr>\n",
       "    <tr>\n",
       "      <th>4</th>\n",
       "      <td>abadan01</td>\n",
       "      <td>2001</td>\n",
       "      <td>2006</td>\n",
       "      <td>73.0</td>\n",
       "      <td>184.0</td>\n",
       "      <td>5</td>\n",
       "    </tr>\n",
       "  </tbody>\n",
       "</table>\n",
       "</div>"
      ],
      "text/plain": [
       "    playerID  debutYear  finalYear  height  weight  career\n",
       "0  aardsda01       2004       2015    75.0   215.0      11\n",
       "1  aaronha01       1954       1976    72.0   180.0      22\n",
       "2  aaronto01       1962       1971    75.0   190.0       9\n",
       "3   aasedo01       1977       1990    75.0   190.0      13\n",
       "4   abadan01       2001       2006    73.0   184.0       5"
      ]
     },
     "execution_count": 25,
     "metadata": {},
     "output_type": "execute_result"
    }
   ],
   "source": [
    "career = master.finalYear.values - master.debutYear.values\n",
    "master['career'] = career\n",
    "master.head()"
   ]
  },
  {
   "cell_type": "markdown",
   "metadata": {},
   "source": [
    "The **career** variable represents years in the league for each player."
   ]
  },
  {
   "cell_type": "markdown",
   "metadata": {
    "collapsed": true
   },
   "source": [
    "Since I will be analyzing player salaries I will have to merge the dataframes to ensure all the players have data in the salaries table."
   ]
  },
  {
   "cell_type": "code",
   "execution_count": 26,
   "metadata": {
    "collapsed": false
   },
   "outputs": [
    {
     "name": "stdout",
     "output_type": "stream",
     "text": [
      "26428\n"
     ]
    }
   ],
   "source": [
    "print(len(salaries))\n",
    "#Check for any null values.\n",
    "salaries.isnull().values.any()\n",
    "#Group salaries by playerID.\n",
    "salaries_grouped = salaries['salary'].groupby(salaries['playerID'])"
   ]
  },
  {
   "cell_type": "code",
   "execution_count": 27,
   "metadata": {
    "collapsed": false,
    "scrolled": true
   },
   "outputs": [
    {
     "data": {
      "text/html": [
       "<div>\n",
       "<table border=\"1\" class=\"dataframe\">\n",
       "  <thead>\n",
       "    <tr style=\"text-align: right;\">\n",
       "      <th></th>\n",
       "      <th>playerID</th>\n",
       "      <th>salary</th>\n",
       "    </tr>\n",
       "  </thead>\n",
       "  <tbody>\n",
       "    <tr>\n",
       "      <th>0</th>\n",
       "      <td>aardsda01</td>\n",
       "      <td>1322821</td>\n",
       "    </tr>\n",
       "    <tr>\n",
       "      <th>1</th>\n",
       "      <td>aasedo01</td>\n",
       "      <td>575000</td>\n",
       "    </tr>\n",
       "    <tr>\n",
       "      <th>2</th>\n",
       "      <td>abadan01</td>\n",
       "      <td>327000</td>\n",
       "    </tr>\n",
       "    <tr>\n",
       "      <th>3</th>\n",
       "      <td>abadfe01</td>\n",
       "      <td>753280</td>\n",
       "    </tr>\n",
       "    <tr>\n",
       "      <th>4</th>\n",
       "      <td>abbotje01</td>\n",
       "      <td>246250</td>\n",
       "    </tr>\n",
       "  </tbody>\n",
       "</table>\n",
       "</div>"
      ],
      "text/plain": [
       "    playerID   salary\n",
       "0  aardsda01  1322821\n",
       "1   aasedo01   575000\n",
       "2   abadan01   327000\n",
       "3   abadfe01   753280\n",
       "4  abbotje01   246250"
      ]
     },
     "execution_count": 27,
     "metadata": {},
     "output_type": "execute_result"
    }
   ],
   "source": [
    "salaries_grouped = salaries_grouped.mean().reset_index()\n",
    "salaries_grouped.head()"
   ]
  },
  {
   "cell_type": "code",
   "execution_count": 28,
   "metadata": {
    "collapsed": false
   },
   "outputs": [
    {
     "name": "stdout",
     "output_type": "stream",
     "text": [
      "5155\n"
     ]
    }
   ],
   "source": [
    "print(len(salaries_grouped))"
   ]
  },
  {
   "cell_type": "markdown",
   "metadata": {},
   "source": [
    "With grouping we now have 5155 rows in the salaries data.\n",
    "Without independent variable, salary being the average salary of players from 1985, we can begin to group the rest of the dependent variables in the same manner."
   ]
  },
  {
   "cell_type": "markdown",
   "metadata": {},
   "source": [
    "**Preparing batting table**"
   ]
  },
  {
   "cell_type": "code",
   "execution_count": 29,
   "metadata": {
    "collapsed": false
   },
   "outputs": [
    {
     "name": "stdout",
     "output_type": "stream",
     "text": [
      "5147 rows.\n"
     ]
    },
    {
     "data": {
      "text/html": [
       "<div>\n",
       "<table border=\"1\" class=\"dataframe\">\n",
       "  <thead>\n",
       "    <tr style=\"text-align: right;\">\n",
       "      <th></th>\n",
       "      <th>playerID</th>\n",
       "      <th>G</th>\n",
       "      <th>AB</th>\n",
       "      <th>H</th>\n",
       "      <th>HR</th>\n",
       "      <th>RBI</th>\n",
       "      <th>SB</th>\n",
       "      <th>CS</th>\n",
       "      <th>BB</th>\n",
       "      <th>SO</th>\n",
       "      <th>IBB</th>\n",
       "      <th>HBP</th>\n",
       "      <th>salary</th>\n",
       "    </tr>\n",
       "  </thead>\n",
       "  <tbody>\n",
       "    <tr>\n",
       "      <th>0</th>\n",
       "      <td>aardsda01</td>\n",
       "      <td>331</td>\n",
       "      <td>4</td>\n",
       "      <td>0</td>\n",
       "      <td>0</td>\n",
       "      <td>0.0</td>\n",
       "      <td>0.0</td>\n",
       "      <td>0.0</td>\n",
       "      <td>0</td>\n",
       "      <td>2.0</td>\n",
       "      <td>0.0</td>\n",
       "      <td>0.0</td>\n",
       "      <td>1322821</td>\n",
       "    </tr>\n",
       "    <tr>\n",
       "      <th>1</th>\n",
       "      <td>aasedo01</td>\n",
       "      <td>448</td>\n",
       "      <td>5</td>\n",
       "      <td>0</td>\n",
       "      <td>0</td>\n",
       "      <td>0.0</td>\n",
       "      <td>0.0</td>\n",
       "      <td>0.0</td>\n",
       "      <td>0</td>\n",
       "      <td>3.0</td>\n",
       "      <td>0.0</td>\n",
       "      <td>0.0</td>\n",
       "      <td>575000</td>\n",
       "    </tr>\n",
       "    <tr>\n",
       "      <th>2</th>\n",
       "      <td>abadan01</td>\n",
       "      <td>15</td>\n",
       "      <td>21</td>\n",
       "      <td>2</td>\n",
       "      <td>0</td>\n",
       "      <td>0.0</td>\n",
       "      <td>0.0</td>\n",
       "      <td>1.0</td>\n",
       "      <td>4</td>\n",
       "      <td>5.0</td>\n",
       "      <td>0.0</td>\n",
       "      <td>0.0</td>\n",
       "      <td>327000</td>\n",
       "    </tr>\n",
       "    <tr>\n",
       "      <th>3</th>\n",
       "      <td>abadfe01</td>\n",
       "      <td>315</td>\n",
       "      <td>9</td>\n",
       "      <td>1</td>\n",
       "      <td>0</td>\n",
       "      <td>0.0</td>\n",
       "      <td>0.0</td>\n",
       "      <td>0.0</td>\n",
       "      <td>0</td>\n",
       "      <td>5.0</td>\n",
       "      <td>0.0</td>\n",
       "      <td>0.0</td>\n",
       "      <td>753280</td>\n",
       "    </tr>\n",
       "    <tr>\n",
       "      <th>4</th>\n",
       "      <td>abbotje01</td>\n",
       "      <td>233</td>\n",
       "      <td>596</td>\n",
       "      <td>157</td>\n",
       "      <td>18</td>\n",
       "      <td>83.0</td>\n",
       "      <td>6.0</td>\n",
       "      <td>5.0</td>\n",
       "      <td>38</td>\n",
       "      <td>91.0</td>\n",
       "      <td>2.0</td>\n",
       "      <td>3.0</td>\n",
       "      <td>246250</td>\n",
       "    </tr>\n",
       "  </tbody>\n",
       "</table>\n",
       "</div>"
      ],
      "text/plain": [
       "    playerID    G   AB    H  HR   RBI   SB   CS  BB    SO  IBB  HBP   salary\n",
       "0  aardsda01  331    4    0   0   0.0  0.0  0.0   0   2.0  0.0  0.0  1322821\n",
       "1   aasedo01  448    5    0   0   0.0  0.0  0.0   0   3.0  0.0  0.0   575000\n",
       "2   abadan01   15   21    2   0   0.0  0.0  1.0   4   5.0  0.0  0.0   327000\n",
       "3   abadfe01  315    9    1   0   0.0  0.0  0.0   0   5.0  0.0  0.0   753280\n",
       "4  abbotje01  233  596  157  18  83.0  6.0  5.0  38  91.0  2.0  3.0   246250"
      ]
     },
     "execution_count": 29,
     "metadata": {},
     "output_type": "execute_result"
    }
   ],
   "source": [
    "# Grouping tables by playerID.\n",
    "# 1. Batting, awards, allstar\n",
    "\n",
    "batting = batting[['playerID', 'G','AB','H','HR','RBI', \n",
    "                   'SB', 'CS', 'BB', 'SO', 'IBB', 'HBP']]\n",
    "\n",
    "batting_grouped = batting.groupby('playerID').sum().reset_index()\n",
    "# main dataframe that will encompass all variables we need for analysis.\n",
    "df = pd.merge(batting_grouped, salaries_grouped, on='playerID')\n",
    "print(str(len(df)) + ' rows.')\n",
    "\n",
    "df.head()"
   ]
  },
  {
   "cell_type": "markdown",
   "metadata": {},
   "source": [
    "We will continue to clean and merge the tables into the df dataframe."
   ]
  },
  {
   "cell_type": "markdown",
   "metadata": {},
   "source": [
    "**Preparing Awards table**"
   ]
  },
  {
   "cell_type": "code",
   "execution_count": 30,
   "metadata": {
    "collapsed": false
   },
   "outputs": [
    {
     "data": {
      "text/html": [
       "<div>\n",
       "<table border=\"1\" class=\"dataframe\">\n",
       "  <thead>\n",
       "    <tr style=\"text-align: right;\">\n",
       "      <th></th>\n",
       "      <th>playerID</th>\n",
       "      <th>awardID</th>\n",
       "      <th>yearID</th>\n",
       "      <th>lgID</th>\n",
       "      <th>tie</th>\n",
       "      <th>notes</th>\n",
       "    </tr>\n",
       "  </thead>\n",
       "  <tbody>\n",
       "    <tr>\n",
       "      <th>0</th>\n",
       "      <td>bondto01</td>\n",
       "      <td>Pitching Triple Crown</td>\n",
       "      <td>1877</td>\n",
       "      <td>NL</td>\n",
       "      <td>NaN</td>\n",
       "      <td>NaN</td>\n",
       "    </tr>\n",
       "    <tr>\n",
       "      <th>1</th>\n",
       "      <td>hinespa01</td>\n",
       "      <td>Triple Crown</td>\n",
       "      <td>1878</td>\n",
       "      <td>NL</td>\n",
       "      <td>NaN</td>\n",
       "      <td>NaN</td>\n",
       "    </tr>\n",
       "    <tr>\n",
       "      <th>2</th>\n",
       "      <td>heckegu01</td>\n",
       "      <td>Pitching Triple Crown</td>\n",
       "      <td>1884</td>\n",
       "      <td>AA</td>\n",
       "      <td>NaN</td>\n",
       "      <td>NaN</td>\n",
       "    </tr>\n",
       "    <tr>\n",
       "      <th>3</th>\n",
       "      <td>radboch01</td>\n",
       "      <td>Pitching Triple Crown</td>\n",
       "      <td>1884</td>\n",
       "      <td>NL</td>\n",
       "      <td>NaN</td>\n",
       "      <td>NaN</td>\n",
       "    </tr>\n",
       "    <tr>\n",
       "      <th>4</th>\n",
       "      <td>oneilti01</td>\n",
       "      <td>Triple Crown</td>\n",
       "      <td>1887</td>\n",
       "      <td>AA</td>\n",
       "      <td>NaN</td>\n",
       "      <td>NaN</td>\n",
       "    </tr>\n",
       "  </tbody>\n",
       "</table>\n",
       "</div>"
      ],
      "text/plain": [
       "    playerID                awardID  yearID lgID  tie notes\n",
       "0   bondto01  Pitching Triple Crown    1877   NL  NaN   NaN\n",
       "1  hinespa01           Triple Crown    1878   NL  NaN   NaN\n",
       "2  heckegu01  Pitching Triple Crown    1884   AA  NaN   NaN\n",
       "3  radboch01  Pitching Triple Crown    1884   NL  NaN   NaN\n",
       "4  oneilti01           Triple Crown    1887   AA  NaN   NaN"
      ]
     },
     "execution_count": 30,
     "metadata": {},
     "output_type": "execute_result"
    }
   ],
   "source": [
    "awards.head()"
   ]
  },
  {
   "cell_type": "code",
   "execution_count": 31,
   "metadata": {
    "collapsed": false
   },
   "outputs": [
    {
     "data": {
      "text/plain": [
       "6158"
      ]
     },
     "execution_count": 31,
     "metadata": {},
     "output_type": "execute_result"
    }
   ],
   "source": [
    "len(awards)"
   ]
  },
  {
   "cell_type": "code",
   "execution_count": 32,
   "metadata": {
    "collapsed": false,
    "scrolled": true
   },
   "outputs": [],
   "source": [
    "awards_grouped = awards.groupby('playerID')\n",
    "awards_count = awards_grouped.agg(['count']).reset_index()[['playerID', 'awardID']]\n",
    "awards_count.columns = ['playerID', 'Awards']\n",
    "awards_count\n",
    "# Left join df and awards_count\n",
    "df = pd.merge(df, awards_count, on='playerID', how='left')"
   ]
  },
  {
   "cell_type": "code",
   "execution_count": 33,
   "metadata": {
    "collapsed": false
   },
   "outputs": [
    {
     "data": {
      "text/html": [
       "<div>\n",
       "<table border=\"1\" class=\"dataframe\">\n",
       "  <thead>\n",
       "    <tr style=\"text-align: right;\">\n",
       "      <th></th>\n",
       "      <th>playerID</th>\n",
       "      <th>G</th>\n",
       "      <th>AB</th>\n",
       "      <th>H</th>\n",
       "      <th>HR</th>\n",
       "      <th>RBI</th>\n",
       "      <th>SB</th>\n",
       "      <th>CS</th>\n",
       "      <th>BB</th>\n",
       "      <th>SO</th>\n",
       "      <th>IBB</th>\n",
       "      <th>HBP</th>\n",
       "      <th>salary</th>\n",
       "      <th>Awards</th>\n",
       "    </tr>\n",
       "  </thead>\n",
       "  <tbody>\n",
       "    <tr>\n",
       "      <th>0</th>\n",
       "      <td>aardsda01</td>\n",
       "      <td>331</td>\n",
       "      <td>4</td>\n",
       "      <td>0</td>\n",
       "      <td>0</td>\n",
       "      <td>0.0</td>\n",
       "      <td>0.0</td>\n",
       "      <td>0.0</td>\n",
       "      <td>0</td>\n",
       "      <td>2.0</td>\n",
       "      <td>0.0</td>\n",
       "      <td>0.0</td>\n",
       "      <td>1322821</td>\n",
       "      <td>0.0</td>\n",
       "    </tr>\n",
       "    <tr>\n",
       "      <th>1</th>\n",
       "      <td>aasedo01</td>\n",
       "      <td>448</td>\n",
       "      <td>5</td>\n",
       "      <td>0</td>\n",
       "      <td>0</td>\n",
       "      <td>0.0</td>\n",
       "      <td>0.0</td>\n",
       "      <td>0.0</td>\n",
       "      <td>0</td>\n",
       "      <td>3.0</td>\n",
       "      <td>0.0</td>\n",
       "      <td>0.0</td>\n",
       "      <td>575000</td>\n",
       "      <td>0.0</td>\n",
       "    </tr>\n",
       "    <tr>\n",
       "      <th>2</th>\n",
       "      <td>abadan01</td>\n",
       "      <td>15</td>\n",
       "      <td>21</td>\n",
       "      <td>2</td>\n",
       "      <td>0</td>\n",
       "      <td>0.0</td>\n",
       "      <td>0.0</td>\n",
       "      <td>1.0</td>\n",
       "      <td>4</td>\n",
       "      <td>5.0</td>\n",
       "      <td>0.0</td>\n",
       "      <td>0.0</td>\n",
       "      <td>327000</td>\n",
       "      <td>0.0</td>\n",
       "    </tr>\n",
       "    <tr>\n",
       "      <th>3</th>\n",
       "      <td>abadfe01</td>\n",
       "      <td>315</td>\n",
       "      <td>9</td>\n",
       "      <td>1</td>\n",
       "      <td>0</td>\n",
       "      <td>0.0</td>\n",
       "      <td>0.0</td>\n",
       "      <td>0.0</td>\n",
       "      <td>0</td>\n",
       "      <td>5.0</td>\n",
       "      <td>0.0</td>\n",
       "      <td>0.0</td>\n",
       "      <td>753280</td>\n",
       "      <td>0.0</td>\n",
       "    </tr>\n",
       "    <tr>\n",
       "      <th>4</th>\n",
       "      <td>abbotje01</td>\n",
       "      <td>233</td>\n",
       "      <td>596</td>\n",
       "      <td>157</td>\n",
       "      <td>18</td>\n",
       "      <td>83.0</td>\n",
       "      <td>6.0</td>\n",
       "      <td>5.0</td>\n",
       "      <td>38</td>\n",
       "      <td>91.0</td>\n",
       "      <td>2.0</td>\n",
       "      <td>3.0</td>\n",
       "      <td>246250</td>\n",
       "      <td>0.0</td>\n",
       "    </tr>\n",
       "  </tbody>\n",
       "</table>\n",
       "</div>"
      ],
      "text/plain": [
       "    playerID    G   AB    H  HR   RBI   SB   CS  BB    SO  IBB  HBP   salary  \\\n",
       "0  aardsda01  331    4    0   0   0.0  0.0  0.0   0   2.0  0.0  0.0  1322821   \n",
       "1   aasedo01  448    5    0   0   0.0  0.0  0.0   0   3.0  0.0  0.0   575000   \n",
       "2   abadan01   15   21    2   0   0.0  0.0  1.0   4   5.0  0.0  0.0   327000   \n",
       "3   abadfe01  315    9    1   0   0.0  0.0  0.0   0   5.0  0.0  0.0   753280   \n",
       "4  abbotje01  233  596  157  18  83.0  6.0  5.0  38  91.0  2.0  3.0   246250   \n",
       "\n",
       "   Awards  \n",
       "0     0.0  \n",
       "1     0.0  \n",
       "2     0.0  \n",
       "3     0.0  \n",
       "4     0.0  "
      ]
     },
     "execution_count": 33,
     "metadata": {},
     "output_type": "execute_result"
    }
   ],
   "source": [
    "# Replace na values with 0.\n",
    "df = df.fillna(0)\n",
    "df[df.Awards == 0].head()"
   ]
  },
  {
   "cell_type": "code",
   "execution_count": 34,
   "metadata": {
    "collapsed": false
   },
   "outputs": [
    {
     "data": {
      "text/plain": [
       "False"
      ]
     },
     "execution_count": 34,
     "metadata": {},
     "output_type": "execute_result"
    }
   ],
   "source": [
    "# Check for any null values\n",
    "df.isnull().values.any()"
   ]
  },
  {
   "cell_type": "markdown",
   "metadata": {},
   "source": [
    "**Preparing Allstar table**"
   ]
  },
  {
   "cell_type": "code",
   "execution_count": 35,
   "metadata": {
    "collapsed": false
   },
   "outputs": [
    {
     "data": {
      "text/html": [
       "<div>\n",
       "<table border=\"1\" class=\"dataframe\">\n",
       "  <thead>\n",
       "    <tr style=\"text-align: right;\">\n",
       "      <th></th>\n",
       "      <th>playerID</th>\n",
       "      <th>yearID</th>\n",
       "      <th>gameNum</th>\n",
       "      <th>gameID</th>\n",
       "      <th>teamID</th>\n",
       "      <th>lgID</th>\n",
       "      <th>GP</th>\n",
       "      <th>startingPos</th>\n",
       "    </tr>\n",
       "  </thead>\n",
       "  <tbody>\n",
       "    <tr>\n",
       "      <th>1</th>\n",
       "      <td>ferreri01</td>\n",
       "      <td>1933</td>\n",
       "      <td>0</td>\n",
       "      <td>ALS193307060</td>\n",
       "      <td>BOS</td>\n",
       "      <td>AL</td>\n",
       "      <td>1.0</td>\n",
       "      <td>2.0</td>\n",
       "    </tr>\n",
       "    <tr>\n",
       "      <th>2</th>\n",
       "      <td>gehrilo01</td>\n",
       "      <td>1933</td>\n",
       "      <td>0</td>\n",
       "      <td>ALS193307060</td>\n",
       "      <td>NYA</td>\n",
       "      <td>AL</td>\n",
       "      <td>1.0</td>\n",
       "      <td>3.0</td>\n",
       "    </tr>\n",
       "    <tr>\n",
       "      <th>3</th>\n",
       "      <td>gehrich01</td>\n",
       "      <td>1933</td>\n",
       "      <td>0</td>\n",
       "      <td>ALS193307060</td>\n",
       "      <td>DET</td>\n",
       "      <td>AL</td>\n",
       "      <td>1.0</td>\n",
       "      <td>4.0</td>\n",
       "    </tr>\n",
       "    <tr>\n",
       "      <th>4</th>\n",
       "      <td>dykesji01</td>\n",
       "      <td>1933</td>\n",
       "      <td>0</td>\n",
       "      <td>ALS193307060</td>\n",
       "      <td>CHA</td>\n",
       "      <td>AL</td>\n",
       "      <td>1.0</td>\n",
       "      <td>5.0</td>\n",
       "    </tr>\n",
       "    <tr>\n",
       "      <th>5</th>\n",
       "      <td>cronijo01</td>\n",
       "      <td>1933</td>\n",
       "      <td>0</td>\n",
       "      <td>ALS193307060</td>\n",
       "      <td>WS1</td>\n",
       "      <td>AL</td>\n",
       "      <td>1.0</td>\n",
       "      <td>6.0</td>\n",
       "    </tr>\n",
       "  </tbody>\n",
       "</table>\n",
       "</div>"
      ],
      "text/plain": [
       "    playerID  yearID  gameNum        gameID teamID lgID   GP  startingPos\n",
       "1  ferreri01    1933        0  ALS193307060    BOS   AL  1.0          2.0\n",
       "2  gehrilo01    1933        0  ALS193307060    NYA   AL  1.0          3.0\n",
       "3  gehrich01    1933        0  ALS193307060    DET   AL  1.0          4.0\n",
       "4  dykesji01    1933        0  ALS193307060    CHA   AL  1.0          5.0\n",
       "5  cronijo01    1933        0  ALS193307060    WS1   AL  1.0          6.0"
      ]
     },
     "execution_count": 35,
     "metadata": {},
     "output_type": "execute_result"
    }
   ],
   "source": [
    "allstar[allstar.duplicated('yearID')].head()"
   ]
  },
  {
   "cell_type": "code",
   "execution_count": 36,
   "metadata": {
    "collapsed": false
   },
   "outputs": [
    {
     "name": "stdout",
     "output_type": "stream",
     "text": [
      "Alex Rodriguez has been on an allstar game roster 14 times.\n"
     ]
    }
   ],
   "source": [
    "allstar[allstar.playerID == 'rodrial01']\n",
    "print('Alex Rodriguez has been on an allstar game roster ' + str(len(allstar[allstar.playerID == 'rodrial01'])) + ' times.')"
   ]
  },
  {
   "cell_type": "code",
   "execution_count": 37,
   "metadata": {
    "collapsed": false
   },
   "outputs": [
    {
     "data": {
      "text/html": [
       "<div>\n",
       "<table border=\"1\" class=\"dataframe\">\n",
       "  <thead>\n",
       "    <tr style=\"text-align: right;\">\n",
       "      <th></th>\n",
       "      <th>playerID</th>\n",
       "      <th>G</th>\n",
       "      <th>AB</th>\n",
       "      <th>H</th>\n",
       "      <th>HR</th>\n",
       "      <th>RBI</th>\n",
       "      <th>SB</th>\n",
       "      <th>CS</th>\n",
       "      <th>BB</th>\n",
       "      <th>SO</th>\n",
       "      <th>IBB</th>\n",
       "      <th>HBP</th>\n",
       "      <th>salary</th>\n",
       "      <th>Awards</th>\n",
       "    </tr>\n",
       "  </thead>\n",
       "  <tbody>\n",
       "    <tr>\n",
       "      <th>3972</th>\n",
       "      <td>rodrial01</td>\n",
       "      <td>2784</td>\n",
       "      <td>10566</td>\n",
       "      <td>3115</td>\n",
       "      <td>696</td>\n",
       "      <td>2086.0</td>\n",
       "      <td>329.0</td>\n",
       "      <td>76.0</td>\n",
       "      <td>1338</td>\n",
       "      <td>2287.0</td>\n",
       "      <td>97.0</td>\n",
       "      <td>176.0</td>\n",
       "      <td>18109829</td>\n",
       "      <td>31.0</td>\n",
       "    </tr>\n",
       "  </tbody>\n",
       "</table>\n",
       "</div>"
      ],
      "text/plain": [
       "       playerID     G     AB     H   HR     RBI     SB    CS    BB      SO  \\\n",
       "3972  rodrial01  2784  10566  3115  696  2086.0  329.0  76.0  1338  2287.0   \n",
       "\n",
       "       IBB    HBP    salary  Awards  \n",
       "3972  97.0  176.0  18109829    31.0  "
      ]
     },
     "execution_count": 37,
     "metadata": {},
     "output_type": "execute_result"
    }
   ],
   "source": [
    "# rodrial01\n",
    "df[df.playerID == 'rodrial01']"
   ]
  },
  {
   "cell_type": "code",
   "execution_count": 38,
   "metadata": {
    "collapsed": false
   },
   "outputs": [],
   "source": [
    "allstar = allstar[['playerID','gameID']]\n",
    "allstar = allstar.groupby('playerID').agg(['count']).reset_index()\n",
    "allstar.columns = ['playerID', 'Allstar']"
   ]
  },
  {
   "cell_type": "code",
   "execution_count": 39,
   "metadata": {
    "collapsed": false
   },
   "outputs": [
    {
     "data": {
      "text/html": [
       "<div>\n",
       "<table border=\"1\" class=\"dataframe\">\n",
       "  <thead>\n",
       "    <tr style=\"text-align: right;\">\n",
       "      <th></th>\n",
       "      <th>playerID</th>\n",
       "      <th>Allstar</th>\n",
       "    </tr>\n",
       "  </thead>\n",
       "  <tbody>\n",
       "    <tr>\n",
       "      <th>0</th>\n",
       "      <td>aaronha01</td>\n",
       "      <td>25</td>\n",
       "    </tr>\n",
       "    <tr>\n",
       "      <th>1</th>\n",
       "      <td>aasedo01</td>\n",
       "      <td>1</td>\n",
       "    </tr>\n",
       "    <tr>\n",
       "      <th>2</th>\n",
       "      <td>abreubo01</td>\n",
       "      <td>2</td>\n",
       "    </tr>\n",
       "    <tr>\n",
       "      <th>3</th>\n",
       "      <td>abreujo02</td>\n",
       "      <td>1</td>\n",
       "    </tr>\n",
       "    <tr>\n",
       "      <th>4</th>\n",
       "      <td>adamsac01</td>\n",
       "      <td>1</td>\n",
       "    </tr>\n",
       "  </tbody>\n",
       "</table>\n",
       "</div>"
      ],
      "text/plain": [
       "    playerID  Allstar\n",
       "0  aaronha01       25\n",
       "1   aasedo01        1\n",
       "2  abreubo01        2\n",
       "3  abreujo02        1\n",
       "4  adamsac01        1"
      ]
     },
     "execution_count": 39,
     "metadata": {},
     "output_type": "execute_result"
    }
   ],
   "source": [
    "allstar.head()"
   ]
  },
  {
   "cell_type": "code",
   "execution_count": 40,
   "metadata": {
    "collapsed": false
   },
   "outputs": [
    {
     "data": {
      "text/plain": [
       "5147"
      ]
     },
     "execution_count": 40,
     "metadata": {},
     "output_type": "execute_result"
    }
   ],
   "source": [
    "df = pd.merge(df, allstar, on='playerID', how='left')\n",
    "len(df)"
   ]
  },
  {
   "cell_type": "code",
   "execution_count": 41,
   "metadata": {
    "collapsed": false
   },
   "outputs": [
    {
     "data": {
      "text/html": [
       "<div>\n",
       "<table border=\"1\" class=\"dataframe\">\n",
       "  <thead>\n",
       "    <tr style=\"text-align: right;\">\n",
       "      <th></th>\n",
       "      <th>playerID</th>\n",
       "      <th>G</th>\n",
       "      <th>AB</th>\n",
       "      <th>H</th>\n",
       "      <th>HR</th>\n",
       "      <th>RBI</th>\n",
       "      <th>SB</th>\n",
       "      <th>CS</th>\n",
       "      <th>BB</th>\n",
       "      <th>SO</th>\n",
       "      <th>IBB</th>\n",
       "      <th>HBP</th>\n",
       "      <th>salary</th>\n",
       "      <th>Awards</th>\n",
       "      <th>Allstar</th>\n",
       "    </tr>\n",
       "  </thead>\n",
       "  <tbody>\n",
       "    <tr>\n",
       "      <th>0</th>\n",
       "      <td>aardsda01</td>\n",
       "      <td>331</td>\n",
       "      <td>4</td>\n",
       "      <td>0</td>\n",
       "      <td>0</td>\n",
       "      <td>0.0</td>\n",
       "      <td>0.0</td>\n",
       "      <td>0.0</td>\n",
       "      <td>0</td>\n",
       "      <td>2.0</td>\n",
       "      <td>0.0</td>\n",
       "      <td>0.0</td>\n",
       "      <td>1322821</td>\n",
       "      <td>0.0</td>\n",
       "      <td>NaN</td>\n",
       "    </tr>\n",
       "    <tr>\n",
       "      <th>1</th>\n",
       "      <td>aasedo01</td>\n",
       "      <td>448</td>\n",
       "      <td>5</td>\n",
       "      <td>0</td>\n",
       "      <td>0</td>\n",
       "      <td>0.0</td>\n",
       "      <td>0.0</td>\n",
       "      <td>0.0</td>\n",
       "      <td>0</td>\n",
       "      <td>3.0</td>\n",
       "      <td>0.0</td>\n",
       "      <td>0.0</td>\n",
       "      <td>575000</td>\n",
       "      <td>0.0</td>\n",
       "      <td>1.0</td>\n",
       "    </tr>\n",
       "    <tr>\n",
       "      <th>2</th>\n",
       "      <td>abadan01</td>\n",
       "      <td>15</td>\n",
       "      <td>21</td>\n",
       "      <td>2</td>\n",
       "      <td>0</td>\n",
       "      <td>0.0</td>\n",
       "      <td>0.0</td>\n",
       "      <td>1.0</td>\n",
       "      <td>4</td>\n",
       "      <td>5.0</td>\n",
       "      <td>0.0</td>\n",
       "      <td>0.0</td>\n",
       "      <td>327000</td>\n",
       "      <td>0.0</td>\n",
       "      <td>NaN</td>\n",
       "    </tr>\n",
       "    <tr>\n",
       "      <th>3</th>\n",
       "      <td>abadfe01</td>\n",
       "      <td>315</td>\n",
       "      <td>9</td>\n",
       "      <td>1</td>\n",
       "      <td>0</td>\n",
       "      <td>0.0</td>\n",
       "      <td>0.0</td>\n",
       "      <td>0.0</td>\n",
       "      <td>0</td>\n",
       "      <td>5.0</td>\n",
       "      <td>0.0</td>\n",
       "      <td>0.0</td>\n",
       "      <td>753280</td>\n",
       "      <td>0.0</td>\n",
       "      <td>NaN</td>\n",
       "    </tr>\n",
       "    <tr>\n",
       "      <th>4</th>\n",
       "      <td>abbotje01</td>\n",
       "      <td>233</td>\n",
       "      <td>596</td>\n",
       "      <td>157</td>\n",
       "      <td>18</td>\n",
       "      <td>83.0</td>\n",
       "      <td>6.0</td>\n",
       "      <td>5.0</td>\n",
       "      <td>38</td>\n",
       "      <td>91.0</td>\n",
       "      <td>2.0</td>\n",
       "      <td>3.0</td>\n",
       "      <td>246250</td>\n",
       "      <td>0.0</td>\n",
       "      <td>NaN</td>\n",
       "    </tr>\n",
       "  </tbody>\n",
       "</table>\n",
       "</div>"
      ],
      "text/plain": [
       "    playerID    G   AB    H  HR   RBI   SB   CS  BB    SO  IBB  HBP   salary  \\\n",
       "0  aardsda01  331    4    0   0   0.0  0.0  0.0   0   2.0  0.0  0.0  1322821   \n",
       "1   aasedo01  448    5    0   0   0.0  0.0  0.0   0   3.0  0.0  0.0   575000   \n",
       "2   abadan01   15   21    2   0   0.0  0.0  1.0   4   5.0  0.0  0.0   327000   \n",
       "3   abadfe01  315    9    1   0   0.0  0.0  0.0   0   5.0  0.0  0.0   753280   \n",
       "4  abbotje01  233  596  157  18  83.0  6.0  5.0  38  91.0  2.0  3.0   246250   \n",
       "\n",
       "   Awards  Allstar  \n",
       "0     0.0      NaN  \n",
       "1     0.0      1.0  \n",
       "2     0.0      NaN  \n",
       "3     0.0      NaN  \n",
       "4     0.0      NaN  "
      ]
     },
     "execution_count": 41,
     "metadata": {},
     "output_type": "execute_result"
    }
   ],
   "source": [
    "df.head()"
   ]
  },
  {
   "cell_type": "markdown",
   "metadata": {},
   "source": [
    "The new Allstar column has NaN due to the choice to merge dataframes via a left join. The NaN represent players who did not achieve awards, as such they will be filled with 0."
   ]
  },
  {
   "cell_type": "code",
   "execution_count": 42,
   "metadata": {
    "collapsed": false
   },
   "outputs": [
    {
     "data": {
      "text/html": [
       "<div>\n",
       "<table border=\"1\" class=\"dataframe\">\n",
       "  <thead>\n",
       "    <tr style=\"text-align: right;\">\n",
       "      <th></th>\n",
       "      <th>playerID</th>\n",
       "      <th>G</th>\n",
       "      <th>AB</th>\n",
       "      <th>H</th>\n",
       "      <th>HR</th>\n",
       "      <th>RBI</th>\n",
       "      <th>SB</th>\n",
       "      <th>CS</th>\n",
       "      <th>BB</th>\n",
       "      <th>SO</th>\n",
       "      <th>IBB</th>\n",
       "      <th>HBP</th>\n",
       "      <th>salary</th>\n",
       "      <th>Awards</th>\n",
       "      <th>Allstar</th>\n",
       "    </tr>\n",
       "  </thead>\n",
       "  <tbody>\n",
       "    <tr>\n",
       "      <th>0</th>\n",
       "      <td>aardsda01</td>\n",
       "      <td>331</td>\n",
       "      <td>4</td>\n",
       "      <td>0</td>\n",
       "      <td>0</td>\n",
       "      <td>0.0</td>\n",
       "      <td>0.0</td>\n",
       "      <td>0.0</td>\n",
       "      <td>0</td>\n",
       "      <td>2.0</td>\n",
       "      <td>0.0</td>\n",
       "      <td>0.0</td>\n",
       "      <td>1322821</td>\n",
       "      <td>0.0</td>\n",
       "      <td>0.0</td>\n",
       "    </tr>\n",
       "    <tr>\n",
       "      <th>1</th>\n",
       "      <td>aasedo01</td>\n",
       "      <td>448</td>\n",
       "      <td>5</td>\n",
       "      <td>0</td>\n",
       "      <td>0</td>\n",
       "      <td>0.0</td>\n",
       "      <td>0.0</td>\n",
       "      <td>0.0</td>\n",
       "      <td>0</td>\n",
       "      <td>3.0</td>\n",
       "      <td>0.0</td>\n",
       "      <td>0.0</td>\n",
       "      <td>575000</td>\n",
       "      <td>0.0</td>\n",
       "      <td>1.0</td>\n",
       "    </tr>\n",
       "    <tr>\n",
       "      <th>2</th>\n",
       "      <td>abadan01</td>\n",
       "      <td>15</td>\n",
       "      <td>21</td>\n",
       "      <td>2</td>\n",
       "      <td>0</td>\n",
       "      <td>0.0</td>\n",
       "      <td>0.0</td>\n",
       "      <td>1.0</td>\n",
       "      <td>4</td>\n",
       "      <td>5.0</td>\n",
       "      <td>0.0</td>\n",
       "      <td>0.0</td>\n",
       "      <td>327000</td>\n",
       "      <td>0.0</td>\n",
       "      <td>0.0</td>\n",
       "    </tr>\n",
       "    <tr>\n",
       "      <th>3</th>\n",
       "      <td>abadfe01</td>\n",
       "      <td>315</td>\n",
       "      <td>9</td>\n",
       "      <td>1</td>\n",
       "      <td>0</td>\n",
       "      <td>0.0</td>\n",
       "      <td>0.0</td>\n",
       "      <td>0.0</td>\n",
       "      <td>0</td>\n",
       "      <td>5.0</td>\n",
       "      <td>0.0</td>\n",
       "      <td>0.0</td>\n",
       "      <td>753280</td>\n",
       "      <td>0.0</td>\n",
       "      <td>0.0</td>\n",
       "    </tr>\n",
       "    <tr>\n",
       "      <th>4</th>\n",
       "      <td>abbotje01</td>\n",
       "      <td>233</td>\n",
       "      <td>596</td>\n",
       "      <td>157</td>\n",
       "      <td>18</td>\n",
       "      <td>83.0</td>\n",
       "      <td>6.0</td>\n",
       "      <td>5.0</td>\n",
       "      <td>38</td>\n",
       "      <td>91.0</td>\n",
       "      <td>2.0</td>\n",
       "      <td>3.0</td>\n",
       "      <td>246250</td>\n",
       "      <td>0.0</td>\n",
       "      <td>0.0</td>\n",
       "    </tr>\n",
       "  </tbody>\n",
       "</table>\n",
       "</div>"
      ],
      "text/plain": [
       "    playerID    G   AB    H  HR   RBI   SB   CS  BB    SO  IBB  HBP   salary  \\\n",
       "0  aardsda01  331    4    0   0   0.0  0.0  0.0   0   2.0  0.0  0.0  1322821   \n",
       "1   aasedo01  448    5    0   0   0.0  0.0  0.0   0   3.0  0.0  0.0   575000   \n",
       "2   abadan01   15   21    2   0   0.0  0.0  1.0   4   5.0  0.0  0.0   327000   \n",
       "3   abadfe01  315    9    1   0   0.0  0.0  0.0   0   5.0  0.0  0.0   753280   \n",
       "4  abbotje01  233  596  157  18  83.0  6.0  5.0  38  91.0  2.0  3.0   246250   \n",
       "\n",
       "   Awards  Allstar  \n",
       "0     0.0      0.0  \n",
       "1     0.0      1.0  \n",
       "2     0.0      0.0  \n",
       "3     0.0      0.0  \n",
       "4     0.0      0.0  "
      ]
     },
     "execution_count": 42,
     "metadata": {},
     "output_type": "execute_result"
    }
   ],
   "source": [
    "df.Allstar = df['Allstar'].fillna(0)\n",
    "df.head()"
   ]
  },
  {
   "cell_type": "code",
   "execution_count": 43,
   "metadata": {
    "collapsed": false
   },
   "outputs": [
    {
     "data": {
      "text/plain": [
       "array(['playerID', 'G', 'AB', 'H', 'HR', 'RBI', 'SB', 'CS', 'BB', 'SO',\n",
       "       'IBB', 'HBP', 'salary', 'Awards', 'Allstar'], dtype=object)"
      ]
     },
     "execution_count": 43,
     "metadata": {},
     "output_type": "execute_result"
    }
   ],
   "source": [
    "colnames = df.columns.values\n",
    "colnames"
   ]
  },
  {
   "cell_type": "code",
   "execution_count": 44,
   "metadata": {
    "collapsed": false
   },
   "outputs": [],
   "source": [
    "# Convert Awards floats to ints\n",
    "\n",
    "df.Awards = df['Awards'].astype(int)\n",
    "df.Allstar = df['Allstar'].astype(int)\n",
    "df.RBI = df['RBI'].astype(int)"
   ]
  },
  {
   "cell_type": "code",
   "execution_count": 45,
   "metadata": {
    "collapsed": false
   },
   "outputs": [
    {
     "data": {
      "text/html": [
       "<div>\n",
       "<table border=\"1\" class=\"dataframe\">\n",
       "  <thead>\n",
       "    <tr style=\"text-align: right;\">\n",
       "      <th></th>\n",
       "      <th>playerID</th>\n",
       "      <th>G</th>\n",
       "      <th>AB</th>\n",
       "      <th>H</th>\n",
       "      <th>HR</th>\n",
       "      <th>RBI</th>\n",
       "      <th>SB</th>\n",
       "      <th>CS</th>\n",
       "      <th>BB</th>\n",
       "      <th>SO</th>\n",
       "      <th>IBB</th>\n",
       "      <th>HBP</th>\n",
       "      <th>salary</th>\n",
       "      <th>Awards</th>\n",
       "      <th>Allstar</th>\n",
       "    </tr>\n",
       "  </thead>\n",
       "  <tbody>\n",
       "    <tr>\n",
       "      <th>0</th>\n",
       "      <td>aardsda01</td>\n",
       "      <td>331</td>\n",
       "      <td>4</td>\n",
       "      <td>0</td>\n",
       "      <td>0</td>\n",
       "      <td>0</td>\n",
       "      <td>0.0</td>\n",
       "      <td>0.0</td>\n",
       "      <td>0</td>\n",
       "      <td>2.0</td>\n",
       "      <td>0.0</td>\n",
       "      <td>0.0</td>\n",
       "      <td>1322821</td>\n",
       "      <td>0</td>\n",
       "      <td>0</td>\n",
       "    </tr>\n",
       "    <tr>\n",
       "      <th>1</th>\n",
       "      <td>aasedo01</td>\n",
       "      <td>448</td>\n",
       "      <td>5</td>\n",
       "      <td>0</td>\n",
       "      <td>0</td>\n",
       "      <td>0</td>\n",
       "      <td>0.0</td>\n",
       "      <td>0.0</td>\n",
       "      <td>0</td>\n",
       "      <td>3.0</td>\n",
       "      <td>0.0</td>\n",
       "      <td>0.0</td>\n",
       "      <td>575000</td>\n",
       "      <td>0</td>\n",
       "      <td>1</td>\n",
       "    </tr>\n",
       "    <tr>\n",
       "      <th>2</th>\n",
       "      <td>abadan01</td>\n",
       "      <td>15</td>\n",
       "      <td>21</td>\n",
       "      <td>2</td>\n",
       "      <td>0</td>\n",
       "      <td>0</td>\n",
       "      <td>0.0</td>\n",
       "      <td>1.0</td>\n",
       "      <td>4</td>\n",
       "      <td>5.0</td>\n",
       "      <td>0.0</td>\n",
       "      <td>0.0</td>\n",
       "      <td>327000</td>\n",
       "      <td>0</td>\n",
       "      <td>0</td>\n",
       "    </tr>\n",
       "    <tr>\n",
       "      <th>3</th>\n",
       "      <td>abadfe01</td>\n",
       "      <td>315</td>\n",
       "      <td>9</td>\n",
       "      <td>1</td>\n",
       "      <td>0</td>\n",
       "      <td>0</td>\n",
       "      <td>0.0</td>\n",
       "      <td>0.0</td>\n",
       "      <td>0</td>\n",
       "      <td>5.0</td>\n",
       "      <td>0.0</td>\n",
       "      <td>0.0</td>\n",
       "      <td>753280</td>\n",
       "      <td>0</td>\n",
       "      <td>0</td>\n",
       "    </tr>\n",
       "    <tr>\n",
       "      <th>4</th>\n",
       "      <td>abbotje01</td>\n",
       "      <td>233</td>\n",
       "      <td>596</td>\n",
       "      <td>157</td>\n",
       "      <td>18</td>\n",
       "      <td>83</td>\n",
       "      <td>6.0</td>\n",
       "      <td>5.0</td>\n",
       "      <td>38</td>\n",
       "      <td>91.0</td>\n",
       "      <td>2.0</td>\n",
       "      <td>3.0</td>\n",
       "      <td>246250</td>\n",
       "      <td>0</td>\n",
       "      <td>0</td>\n",
       "    </tr>\n",
       "  </tbody>\n",
       "</table>\n",
       "</div>"
      ],
      "text/plain": [
       "    playerID    G   AB    H  HR  RBI   SB   CS  BB    SO  IBB  HBP   salary  \\\n",
       "0  aardsda01  331    4    0   0    0  0.0  0.0   0   2.0  0.0  0.0  1322821   \n",
       "1   aasedo01  448    5    0   0    0  0.0  0.0   0   3.0  0.0  0.0   575000   \n",
       "2   abadan01   15   21    2   0    0  0.0  1.0   4   5.0  0.0  0.0   327000   \n",
       "3   abadfe01  315    9    1   0    0  0.0  0.0   0   5.0  0.0  0.0   753280   \n",
       "4  abbotje01  233  596  157  18   83  6.0  5.0  38  91.0  2.0  3.0   246250   \n",
       "\n",
       "   Awards  Allstar  \n",
       "0       0        0  \n",
       "1       0        1  \n",
       "2       0        0  \n",
       "3       0        0  \n",
       "4       0        0  "
      ]
     },
     "execution_count": 45,
     "metadata": {},
     "output_type": "execute_result"
    }
   ],
   "source": [
    "df.head()"
   ]
  },
  {
   "cell_type": "markdown",
   "metadata": {},
   "source": [
    "Last data table to merge will be the master table for the 'debut' column."
   ]
  },
  {
   "cell_type": "code",
   "execution_count": 46,
   "metadata": {
    "collapsed": false
   },
   "outputs": [],
   "source": [
    "df = pd.merge(df, master, on='playerID')"
   ]
  },
  {
   "cell_type": "code",
   "execution_count": 47,
   "metadata": {
    "collapsed": false
   },
   "outputs": [
    {
     "data": {
      "text/plain": [
       "False"
      ]
     },
     "execution_count": 47,
     "metadata": {},
     "output_type": "execute_result"
    }
   ],
   "source": [
    "df.isnull().values.any()"
   ]
  },
  {
   "cell_type": "code",
   "execution_count": 48,
   "metadata": {
    "collapsed": false
   },
   "outputs": [
    {
     "data": {
      "text/html": [
       "<div>\n",
       "<table border=\"1\" class=\"dataframe\">\n",
       "  <thead>\n",
       "    <tr style=\"text-align: right;\">\n",
       "      <th></th>\n",
       "      <th>playerID</th>\n",
       "      <th>G</th>\n",
       "      <th>AB</th>\n",
       "      <th>H</th>\n",
       "      <th>HR</th>\n",
       "      <th>RBI</th>\n",
       "      <th>SB</th>\n",
       "      <th>CS</th>\n",
       "      <th>BB</th>\n",
       "      <th>SO</th>\n",
       "      <th>IBB</th>\n",
       "      <th>HBP</th>\n",
       "      <th>salary</th>\n",
       "      <th>Awards</th>\n",
       "      <th>Allstar</th>\n",
       "      <th>debutYear</th>\n",
       "      <th>finalYear</th>\n",
       "      <th>height</th>\n",
       "      <th>weight</th>\n",
       "      <th>career</th>\n",
       "    </tr>\n",
       "  </thead>\n",
       "  <tbody>\n",
       "    <tr>\n",
       "      <th>0</th>\n",
       "      <td>aardsda01</td>\n",
       "      <td>331</td>\n",
       "      <td>4</td>\n",
       "      <td>0</td>\n",
       "      <td>0</td>\n",
       "      <td>0</td>\n",
       "      <td>0.0</td>\n",
       "      <td>0.0</td>\n",
       "      <td>0</td>\n",
       "      <td>2.0</td>\n",
       "      <td>0.0</td>\n",
       "      <td>0.0</td>\n",
       "      <td>1322821</td>\n",
       "      <td>0</td>\n",
       "      <td>0</td>\n",
       "      <td>2004</td>\n",
       "      <td>2015</td>\n",
       "      <td>75.0</td>\n",
       "      <td>215.0</td>\n",
       "      <td>11</td>\n",
       "    </tr>\n",
       "    <tr>\n",
       "      <th>1</th>\n",
       "      <td>aasedo01</td>\n",
       "      <td>448</td>\n",
       "      <td>5</td>\n",
       "      <td>0</td>\n",
       "      <td>0</td>\n",
       "      <td>0</td>\n",
       "      <td>0.0</td>\n",
       "      <td>0.0</td>\n",
       "      <td>0</td>\n",
       "      <td>3.0</td>\n",
       "      <td>0.0</td>\n",
       "      <td>0.0</td>\n",
       "      <td>575000</td>\n",
       "      <td>0</td>\n",
       "      <td>1</td>\n",
       "      <td>1977</td>\n",
       "      <td>1990</td>\n",
       "      <td>75.0</td>\n",
       "      <td>190.0</td>\n",
       "      <td>13</td>\n",
       "    </tr>\n",
       "    <tr>\n",
       "      <th>2</th>\n",
       "      <td>abadan01</td>\n",
       "      <td>15</td>\n",
       "      <td>21</td>\n",
       "      <td>2</td>\n",
       "      <td>0</td>\n",
       "      <td>0</td>\n",
       "      <td>0.0</td>\n",
       "      <td>1.0</td>\n",
       "      <td>4</td>\n",
       "      <td>5.0</td>\n",
       "      <td>0.0</td>\n",
       "      <td>0.0</td>\n",
       "      <td>327000</td>\n",
       "      <td>0</td>\n",
       "      <td>0</td>\n",
       "      <td>2001</td>\n",
       "      <td>2006</td>\n",
       "      <td>73.0</td>\n",
       "      <td>184.0</td>\n",
       "      <td>5</td>\n",
       "    </tr>\n",
       "    <tr>\n",
       "      <th>3</th>\n",
       "      <td>abadfe01</td>\n",
       "      <td>315</td>\n",
       "      <td>9</td>\n",
       "      <td>1</td>\n",
       "      <td>0</td>\n",
       "      <td>0</td>\n",
       "      <td>0.0</td>\n",
       "      <td>0.0</td>\n",
       "      <td>0</td>\n",
       "      <td>5.0</td>\n",
       "      <td>0.0</td>\n",
       "      <td>0.0</td>\n",
       "      <td>753280</td>\n",
       "      <td>0</td>\n",
       "      <td>0</td>\n",
       "      <td>2010</td>\n",
       "      <td>2016</td>\n",
       "      <td>73.0</td>\n",
       "      <td>220.0</td>\n",
       "      <td>6</td>\n",
       "    </tr>\n",
       "    <tr>\n",
       "      <th>4</th>\n",
       "      <td>abbotje01</td>\n",
       "      <td>233</td>\n",
       "      <td>596</td>\n",
       "      <td>157</td>\n",
       "      <td>18</td>\n",
       "      <td>83</td>\n",
       "      <td>6.0</td>\n",
       "      <td>5.0</td>\n",
       "      <td>38</td>\n",
       "      <td>91.0</td>\n",
       "      <td>2.0</td>\n",
       "      <td>3.0</td>\n",
       "      <td>246250</td>\n",
       "      <td>0</td>\n",
       "      <td>0</td>\n",
       "      <td>1997</td>\n",
       "      <td>2001</td>\n",
       "      <td>74.0</td>\n",
       "      <td>190.0</td>\n",
       "      <td>4</td>\n",
       "    </tr>\n",
       "  </tbody>\n",
       "</table>\n",
       "</div>"
      ],
      "text/plain": [
       "    playerID    G   AB    H  HR  RBI   SB   CS  BB    SO  IBB  HBP   salary  \\\n",
       "0  aardsda01  331    4    0   0    0  0.0  0.0   0   2.0  0.0  0.0  1322821   \n",
       "1   aasedo01  448    5    0   0    0  0.0  0.0   0   3.0  0.0  0.0   575000   \n",
       "2   abadan01   15   21    2   0    0  0.0  1.0   4   5.0  0.0  0.0   327000   \n",
       "3   abadfe01  315    9    1   0    0  0.0  0.0   0   5.0  0.0  0.0   753280   \n",
       "4  abbotje01  233  596  157  18   83  6.0  5.0  38  91.0  2.0  3.0   246250   \n",
       "\n",
       "   Awards  Allstar  debutYear  finalYear  height  weight  career  \n",
       "0       0        0       2004       2015    75.0   215.0      11  \n",
       "1       0        1       1977       1990    75.0   190.0      13  \n",
       "2       0        0       2001       2006    73.0   184.0       5  \n",
       "3       0        0       2010       2016    73.0   220.0       6  \n",
       "4       0        0       1997       2001    74.0   190.0       4  "
      ]
     },
     "execution_count": 48,
     "metadata": {},
     "output_type": "execute_result"
    }
   ],
   "source": [
    "df.head()"
   ]
  },
  {
   "cell_type": "code",
   "execution_count": 49,
   "metadata": {
    "collapsed": false,
    "scrolled": true
   },
   "outputs": [
    {
     "data": {
      "text/html": [
       "<div>\n",
       "<table border=\"1\" class=\"dataframe\">\n",
       "  <thead>\n",
       "    <tr style=\"text-align: right;\">\n",
       "      <th></th>\n",
       "      <th>playerID</th>\n",
       "      <th>G</th>\n",
       "      <th>AB</th>\n",
       "      <th>H</th>\n",
       "      <th>HR</th>\n",
       "      <th>RBI</th>\n",
       "      <th>SB</th>\n",
       "      <th>CS</th>\n",
       "      <th>BB</th>\n",
       "      <th>SO</th>\n",
       "      <th>...</th>\n",
       "      <th>HBP</th>\n",
       "      <th>salary</th>\n",
       "      <th>Awards</th>\n",
       "      <th>Allstar</th>\n",
       "      <th>debutYear</th>\n",
       "      <th>finalYear</th>\n",
       "      <th>height</th>\n",
       "      <th>weight</th>\n",
       "      <th>career</th>\n",
       "      <th>AVG</th>\n",
       "    </tr>\n",
       "  </thead>\n",
       "  <tbody>\n",
       "    <tr>\n",
       "      <th>0</th>\n",
       "      <td>aardsda01</td>\n",
       "      <td>331</td>\n",
       "      <td>4</td>\n",
       "      <td>0</td>\n",
       "      <td>0</td>\n",
       "      <td>0</td>\n",
       "      <td>0.0</td>\n",
       "      <td>0.0</td>\n",
       "      <td>0</td>\n",
       "      <td>2.0</td>\n",
       "      <td>...</td>\n",
       "      <td>0.0</td>\n",
       "      <td>1322821</td>\n",
       "      <td>0</td>\n",
       "      <td>0</td>\n",
       "      <td>2004</td>\n",
       "      <td>2015</td>\n",
       "      <td>75.0</td>\n",
       "      <td>215.0</td>\n",
       "      <td>11</td>\n",
       "      <td>0.000</td>\n",
       "    </tr>\n",
       "    <tr>\n",
       "      <th>1</th>\n",
       "      <td>aasedo01</td>\n",
       "      <td>448</td>\n",
       "      <td>5</td>\n",
       "      <td>0</td>\n",
       "      <td>0</td>\n",
       "      <td>0</td>\n",
       "      <td>0.0</td>\n",
       "      <td>0.0</td>\n",
       "      <td>0</td>\n",
       "      <td>3.0</td>\n",
       "      <td>...</td>\n",
       "      <td>0.0</td>\n",
       "      <td>575000</td>\n",
       "      <td>0</td>\n",
       "      <td>1</td>\n",
       "      <td>1977</td>\n",
       "      <td>1990</td>\n",
       "      <td>75.0</td>\n",
       "      <td>190.0</td>\n",
       "      <td>13</td>\n",
       "      <td>0.000</td>\n",
       "    </tr>\n",
       "    <tr>\n",
       "      <th>2</th>\n",
       "      <td>abadan01</td>\n",
       "      <td>15</td>\n",
       "      <td>21</td>\n",
       "      <td>2</td>\n",
       "      <td>0</td>\n",
       "      <td>0</td>\n",
       "      <td>0.0</td>\n",
       "      <td>1.0</td>\n",
       "      <td>4</td>\n",
       "      <td>5.0</td>\n",
       "      <td>...</td>\n",
       "      <td>0.0</td>\n",
       "      <td>327000</td>\n",
       "      <td>0</td>\n",
       "      <td>0</td>\n",
       "      <td>2001</td>\n",
       "      <td>2006</td>\n",
       "      <td>73.0</td>\n",
       "      <td>184.0</td>\n",
       "      <td>5</td>\n",
       "      <td>0.095</td>\n",
       "    </tr>\n",
       "    <tr>\n",
       "      <th>3</th>\n",
       "      <td>abadfe01</td>\n",
       "      <td>315</td>\n",
       "      <td>9</td>\n",
       "      <td>1</td>\n",
       "      <td>0</td>\n",
       "      <td>0</td>\n",
       "      <td>0.0</td>\n",
       "      <td>0.0</td>\n",
       "      <td>0</td>\n",
       "      <td>5.0</td>\n",
       "      <td>...</td>\n",
       "      <td>0.0</td>\n",
       "      <td>753280</td>\n",
       "      <td>0</td>\n",
       "      <td>0</td>\n",
       "      <td>2010</td>\n",
       "      <td>2016</td>\n",
       "      <td>73.0</td>\n",
       "      <td>220.0</td>\n",
       "      <td>6</td>\n",
       "      <td>0.111</td>\n",
       "    </tr>\n",
       "    <tr>\n",
       "      <th>4</th>\n",
       "      <td>abbotje01</td>\n",
       "      <td>233</td>\n",
       "      <td>596</td>\n",
       "      <td>157</td>\n",
       "      <td>18</td>\n",
       "      <td>83</td>\n",
       "      <td>6.0</td>\n",
       "      <td>5.0</td>\n",
       "      <td>38</td>\n",
       "      <td>91.0</td>\n",
       "      <td>...</td>\n",
       "      <td>3.0</td>\n",
       "      <td>246250</td>\n",
       "      <td>0</td>\n",
       "      <td>0</td>\n",
       "      <td>1997</td>\n",
       "      <td>2001</td>\n",
       "      <td>74.0</td>\n",
       "      <td>190.0</td>\n",
       "      <td>4</td>\n",
       "      <td>0.263</td>\n",
       "    </tr>\n",
       "  </tbody>\n",
       "</table>\n",
       "<p>5 rows × 21 columns</p>\n",
       "</div>"
      ],
      "text/plain": [
       "    playerID    G   AB    H  HR  RBI   SB   CS  BB    SO  ...    HBP   salary  \\\n",
       "0  aardsda01  331    4    0   0    0  0.0  0.0   0   2.0  ...    0.0  1322821   \n",
       "1   aasedo01  448    5    0   0    0  0.0  0.0   0   3.0  ...    0.0   575000   \n",
       "2   abadan01   15   21    2   0    0  0.0  1.0   4   5.0  ...    0.0   327000   \n",
       "3   abadfe01  315    9    1   0    0  0.0  0.0   0   5.0  ...    0.0   753280   \n",
       "4  abbotje01  233  596  157  18   83  6.0  5.0  38  91.0  ...    3.0   246250   \n",
       "\n",
       "   Awards  Allstar  debutYear  finalYear  height  weight  career    AVG  \n",
       "0       0        0       2004       2015    75.0   215.0      11  0.000  \n",
       "1       0        1       1977       1990    75.0   190.0      13  0.000  \n",
       "2       0        0       2001       2006    73.0   184.0       5  0.095  \n",
       "3       0        0       2010       2016    73.0   220.0       6  0.111  \n",
       "4       0        0       1997       2001    74.0   190.0       4  0.263  \n",
       "\n",
       "[5 rows x 21 columns]"
      ]
     },
     "execution_count": 49,
     "metadata": {},
     "output_type": "execute_result"
    }
   ],
   "source": [
    "# Batting Average\n",
    "BAVG = df['H'] / df['AB']\n",
    "df['AVG'] = BAVG.round(3)\n",
    "df.head()"
   ]
  },
  {
   "cell_type": "markdown",
   "metadata": {},
   "source": [
    "**Removing pure pitchers from analysis.**"
   ]
  },
  {
   "cell_type": "code",
   "execution_count": 50,
   "metadata": {
    "collapsed": false
   },
   "outputs": [
    {
     "data": {
      "text/html": [
       "<div>\n",
       "<table border=\"1\" class=\"dataframe\">\n",
       "  <thead>\n",
       "    <tr style=\"text-align: right;\">\n",
       "      <th></th>\n",
       "      <th>playerID</th>\n",
       "      <th>POS</th>\n",
       "    </tr>\n",
       "  </thead>\n",
       "  <tbody>\n",
       "    <tr>\n",
       "      <th>84257</th>\n",
       "      <td>aasedo01</td>\n",
       "      <td>P</td>\n",
       "    </tr>\n",
       "    <tr>\n",
       "      <th>84258</th>\n",
       "      <td>abregjo01</td>\n",
       "      <td>P</td>\n",
       "    </tr>\n",
       "    <tr>\n",
       "      <th>84259</th>\n",
       "      <td>ackerji01</td>\n",
       "      <td>P</td>\n",
       "    </tr>\n",
       "    <tr>\n",
       "      <th>84260</th>\n",
       "      <td>adamsri02</td>\n",
       "      <td>2B</td>\n",
       "    </tr>\n",
       "    <tr>\n",
       "      <th>84261</th>\n",
       "      <td>adamsri02</td>\n",
       "      <td>3B</td>\n",
       "    </tr>\n",
       "  </tbody>\n",
       "</table>\n",
       "</div>"
      ],
      "text/plain": [
       "        playerID POS\n",
       "84257   aasedo01   P\n",
       "84258  abregjo01   P\n",
       "84259  ackerji01   P\n",
       "84260  adamsri02  2B\n",
       "84261  adamsri02  3B"
      ]
     },
     "execution_count": 50,
     "metadata": {},
     "output_type": "execute_result"
    }
   ],
   "source": [
    "fielding1985 = fielding1985[['playerID', 'POS']]\n",
    "fielding1985.isnull().values.any()\n",
    "\n",
    "fielding1985.head()"
   ]
  },
  {
   "cell_type": "markdown",
   "metadata": {},
   "source": [
    "This new fielding1985 table will be used to filter out players with P as their position later on, when merging tables."
   ]
  },
  {
   "cell_type": "code",
   "execution_count": 51,
   "metadata": {
    "collapsed": false
   },
   "outputs": [
    {
     "data": {
      "text/plain": [
       "True"
      ]
     },
     "execution_count": 51,
     "metadata": {},
     "output_type": "execute_result"
    }
   ],
   "source": [
    "fielding1985.duplicated().values.any()"
   ]
  },
  {
   "cell_type": "code",
   "execution_count": 52,
   "metadata": {
    "collapsed": false
   },
   "outputs": [
    {
     "data": {
      "text/plain": [
       "False"
      ]
     },
     "execution_count": 52,
     "metadata": {},
     "output_type": "execute_result"
    }
   ],
   "source": [
    "fielding1985 = fielding1985.drop_duplicates()\n",
    "fielding1985.duplicated().values.any()"
   ]
  },
  {
   "cell_type": "code",
   "execution_count": 53,
   "metadata": {
    "collapsed": false
   },
   "outputs": [
    {
     "data": {
      "text/plain": [
       "False"
      ]
     },
     "execution_count": 53,
     "metadata": {},
     "output_type": "execute_result"
    }
   ],
   "source": [
    "fielding1985.isnull().values.any()"
   ]
  },
  {
   "cell_type": "code",
   "execution_count": 54,
   "metadata": {
    "collapsed": false
   },
   "outputs": [
    {
     "data": {
      "text/html": [
       "<div>\n",
       "<table border=\"1\" class=\"dataframe\">\n",
       "  <thead>\n",
       "    <tr style=\"text-align: right;\">\n",
       "      <th></th>\n",
       "      <th>playerID</th>\n",
       "      <th>G</th>\n",
       "      <th>AB</th>\n",
       "      <th>H</th>\n",
       "      <th>HR</th>\n",
       "      <th>RBI</th>\n",
       "      <th>SB</th>\n",
       "      <th>CS</th>\n",
       "      <th>BB</th>\n",
       "      <th>SO</th>\n",
       "      <th>...</th>\n",
       "      <th>Awards</th>\n",
       "      <th>Allstar</th>\n",
       "      <th>debutYear</th>\n",
       "      <th>finalYear</th>\n",
       "      <th>height</th>\n",
       "      <th>weight</th>\n",
       "      <th>career</th>\n",
       "      <th>AVG</th>\n",
       "      <th>POS</th>\n",
       "      <th>_merge</th>\n",
       "    </tr>\n",
       "  </thead>\n",
       "  <tbody>\n",
       "    <tr>\n",
       "      <th>0</th>\n",
       "      <td>aardsda01</td>\n",
       "      <td>331</td>\n",
       "      <td>4</td>\n",
       "      <td>0</td>\n",
       "      <td>0</td>\n",
       "      <td>0</td>\n",
       "      <td>0.0</td>\n",
       "      <td>0.0</td>\n",
       "      <td>0</td>\n",
       "      <td>2.0</td>\n",
       "      <td>...</td>\n",
       "      <td>0</td>\n",
       "      <td>0</td>\n",
       "      <td>2004</td>\n",
       "      <td>2015</td>\n",
       "      <td>75.0</td>\n",
       "      <td>215.0</td>\n",
       "      <td>11</td>\n",
       "      <td>0.000</td>\n",
       "      <td>P</td>\n",
       "      <td>both</td>\n",
       "    </tr>\n",
       "    <tr>\n",
       "      <th>1</th>\n",
       "      <td>aasedo01</td>\n",
       "      <td>448</td>\n",
       "      <td>5</td>\n",
       "      <td>0</td>\n",
       "      <td>0</td>\n",
       "      <td>0</td>\n",
       "      <td>0.0</td>\n",
       "      <td>0.0</td>\n",
       "      <td>0</td>\n",
       "      <td>3.0</td>\n",
       "      <td>...</td>\n",
       "      <td>0</td>\n",
       "      <td>1</td>\n",
       "      <td>1977</td>\n",
       "      <td>1990</td>\n",
       "      <td>75.0</td>\n",
       "      <td>190.0</td>\n",
       "      <td>13</td>\n",
       "      <td>0.000</td>\n",
       "      <td>P</td>\n",
       "      <td>both</td>\n",
       "    </tr>\n",
       "    <tr>\n",
       "      <th>2</th>\n",
       "      <td>abadan01</td>\n",
       "      <td>15</td>\n",
       "      <td>21</td>\n",
       "      <td>2</td>\n",
       "      <td>0</td>\n",
       "      <td>0</td>\n",
       "      <td>0.0</td>\n",
       "      <td>1.0</td>\n",
       "      <td>4</td>\n",
       "      <td>5.0</td>\n",
       "      <td>...</td>\n",
       "      <td>0</td>\n",
       "      <td>0</td>\n",
       "      <td>2001</td>\n",
       "      <td>2006</td>\n",
       "      <td>73.0</td>\n",
       "      <td>184.0</td>\n",
       "      <td>5</td>\n",
       "      <td>0.095</td>\n",
       "      <td>NaN</td>\n",
       "      <td>left_only</td>\n",
       "    </tr>\n",
       "    <tr>\n",
       "      <th>3</th>\n",
       "      <td>abadfe01</td>\n",
       "      <td>315</td>\n",
       "      <td>9</td>\n",
       "      <td>1</td>\n",
       "      <td>0</td>\n",
       "      <td>0</td>\n",
       "      <td>0.0</td>\n",
       "      <td>0.0</td>\n",
       "      <td>0</td>\n",
       "      <td>5.0</td>\n",
       "      <td>...</td>\n",
       "      <td>0</td>\n",
       "      <td>0</td>\n",
       "      <td>2010</td>\n",
       "      <td>2016</td>\n",
       "      <td>73.0</td>\n",
       "      <td>220.0</td>\n",
       "      <td>6</td>\n",
       "      <td>0.111</td>\n",
       "      <td>P</td>\n",
       "      <td>both</td>\n",
       "    </tr>\n",
       "    <tr>\n",
       "      <th>4</th>\n",
       "      <td>abbotje01</td>\n",
       "      <td>233</td>\n",
       "      <td>596</td>\n",
       "      <td>157</td>\n",
       "      <td>18</td>\n",
       "      <td>83</td>\n",
       "      <td>6.0</td>\n",
       "      <td>5.0</td>\n",
       "      <td>38</td>\n",
       "      <td>91.0</td>\n",
       "      <td>...</td>\n",
       "      <td>0</td>\n",
       "      <td>0</td>\n",
       "      <td>1997</td>\n",
       "      <td>2001</td>\n",
       "      <td>74.0</td>\n",
       "      <td>190.0</td>\n",
       "      <td>4</td>\n",
       "      <td>0.263</td>\n",
       "      <td>NaN</td>\n",
       "      <td>left_only</td>\n",
       "    </tr>\n",
       "  </tbody>\n",
       "</table>\n",
       "<p>5 rows × 23 columns</p>\n",
       "</div>"
      ],
      "text/plain": [
       "    playerID    G   AB    H  HR  RBI   SB   CS  BB    SO    ...      Awards  \\\n",
       "0  aardsda01  331    4    0   0    0  0.0  0.0   0   2.0    ...           0   \n",
       "1   aasedo01  448    5    0   0    0  0.0  0.0   0   3.0    ...           0   \n",
       "2   abadan01   15   21    2   0    0  0.0  1.0   4   5.0    ...           0   \n",
       "3   abadfe01  315    9    1   0    0  0.0  0.0   0   5.0    ...           0   \n",
       "4  abbotje01  233  596  157  18   83  6.0  5.0  38  91.0    ...           0   \n",
       "\n",
       "   Allstar  debutYear  finalYear  height  weight  career    AVG  POS  \\\n",
       "0        0       2004       2015    75.0   215.0      11  0.000    P   \n",
       "1        1       1977       1990    75.0   190.0      13  0.000    P   \n",
       "2        0       2001       2006    73.0   184.0       5  0.095  NaN   \n",
       "3        0       2010       2016    73.0   220.0       6  0.111    P   \n",
       "4        0       1997       2001    74.0   190.0       4  0.263  NaN   \n",
       "\n",
       "      _merge  \n",
       "0       both  \n",
       "1       both  \n",
       "2  left_only  \n",
       "3       both  \n",
       "4  left_only  \n",
       "\n",
       "[5 rows x 23 columns]"
      ]
     },
     "execution_count": 54,
     "metadata": {},
     "output_type": "execute_result"
    }
   ],
   "source": [
    "remove = fielding1985[fielding1985.POS == 'P']\n",
    "merged = pd.merge(df, remove, on='playerID', how='left', indicator=True)\n",
    "merged.head()"
   ]
  },
  {
   "cell_type": "markdown",
   "metadata": {},
   "source": [
    "The **remove** dataframe consists of the players with position 'P' as in pitcher. The dataframe represents the players that will be removed from our **df** dataframe."
   ]
  },
  {
   "cell_type": "code",
   "execution_count": 55,
   "metadata": {
    "collapsed": false
   },
   "outputs": [
    {
     "data": {
      "text/html": [
       "<div>\n",
       "<table border=\"1\" class=\"dataframe\">\n",
       "  <thead>\n",
       "    <tr style=\"text-align: right;\">\n",
       "      <th></th>\n",
       "      <th>playerID</th>\n",
       "      <th>G</th>\n",
       "      <th>AB</th>\n",
       "      <th>H</th>\n",
       "      <th>HR</th>\n",
       "      <th>RBI</th>\n",
       "      <th>SB</th>\n",
       "      <th>CS</th>\n",
       "      <th>BB</th>\n",
       "      <th>SO</th>\n",
       "      <th>...</th>\n",
       "      <th>Awards</th>\n",
       "      <th>Allstar</th>\n",
       "      <th>debutYear</th>\n",
       "      <th>finalYear</th>\n",
       "      <th>height</th>\n",
       "      <th>weight</th>\n",
       "      <th>career</th>\n",
       "      <th>AVG</th>\n",
       "      <th>POS</th>\n",
       "      <th>_merge</th>\n",
       "    </tr>\n",
       "  </thead>\n",
       "  <tbody>\n",
       "    <tr>\n",
       "      <th>2</th>\n",
       "      <td>abadan01</td>\n",
       "      <td>15</td>\n",
       "      <td>21</td>\n",
       "      <td>2</td>\n",
       "      <td>0</td>\n",
       "      <td>0</td>\n",
       "      <td>0.0</td>\n",
       "      <td>1.0</td>\n",
       "      <td>4</td>\n",
       "      <td>5.0</td>\n",
       "      <td>...</td>\n",
       "      <td>0</td>\n",
       "      <td>0</td>\n",
       "      <td>2001</td>\n",
       "      <td>2006</td>\n",
       "      <td>73.0</td>\n",
       "      <td>184.0</td>\n",
       "      <td>5</td>\n",
       "      <td>0.095</td>\n",
       "      <td>NaN</td>\n",
       "      <td>left_only</td>\n",
       "    </tr>\n",
       "    <tr>\n",
       "      <th>4</th>\n",
       "      <td>abbotje01</td>\n",
       "      <td>233</td>\n",
       "      <td>596</td>\n",
       "      <td>157</td>\n",
       "      <td>18</td>\n",
       "      <td>83</td>\n",
       "      <td>6.0</td>\n",
       "      <td>5.0</td>\n",
       "      <td>38</td>\n",
       "      <td>91.0</td>\n",
       "      <td>...</td>\n",
       "      <td>0</td>\n",
       "      <td>0</td>\n",
       "      <td>1997</td>\n",
       "      <td>2001</td>\n",
       "      <td>74.0</td>\n",
       "      <td>190.0</td>\n",
       "      <td>4</td>\n",
       "      <td>0.263</td>\n",
       "      <td>NaN</td>\n",
       "      <td>left_only</td>\n",
       "    </tr>\n",
       "    <tr>\n",
       "      <th>6</th>\n",
       "      <td>abbotku01</td>\n",
       "      <td>702</td>\n",
       "      <td>2044</td>\n",
       "      <td>523</td>\n",
       "      <td>62</td>\n",
       "      <td>242</td>\n",
       "      <td>22.0</td>\n",
       "      <td>11.0</td>\n",
       "      <td>133</td>\n",
       "      <td>571.0</td>\n",
       "      <td>...</td>\n",
       "      <td>0</td>\n",
       "      <td>0</td>\n",
       "      <td>1993</td>\n",
       "      <td>2001</td>\n",
       "      <td>71.0</td>\n",
       "      <td>180.0</td>\n",
       "      <td>8</td>\n",
       "      <td>0.256</td>\n",
       "      <td>NaN</td>\n",
       "      <td>left_only</td>\n",
       "    </tr>\n",
       "    <tr>\n",
       "      <th>9</th>\n",
       "      <td>abercre01</td>\n",
       "      <td>180</td>\n",
       "      <td>386</td>\n",
       "      <td>86</td>\n",
       "      <td>9</td>\n",
       "      <td>34</td>\n",
       "      <td>18.0</td>\n",
       "      <td>8.0</td>\n",
       "      <td>21</td>\n",
       "      <td>123.0</td>\n",
       "      <td>...</td>\n",
       "      <td>0</td>\n",
       "      <td>0</td>\n",
       "      <td>2006</td>\n",
       "      <td>2008</td>\n",
       "      <td>75.0</td>\n",
       "      <td>215.0</td>\n",
       "      <td>2</td>\n",
       "      <td>0.223</td>\n",
       "      <td>NaN</td>\n",
       "      <td>left_only</td>\n",
       "    </tr>\n",
       "    <tr>\n",
       "      <th>10</th>\n",
       "      <td>abernbr01</td>\n",
       "      <td>232</td>\n",
       "      <td>868</td>\n",
       "      <td>212</td>\n",
       "      <td>8</td>\n",
       "      <td>79</td>\n",
       "      <td>21.0</td>\n",
       "      <td>7.0</td>\n",
       "      <td>60</td>\n",
       "      <td>93.0</td>\n",
       "      <td>...</td>\n",
       "      <td>0</td>\n",
       "      <td>0</td>\n",
       "      <td>2001</td>\n",
       "      <td>2005</td>\n",
       "      <td>73.0</td>\n",
       "      <td>185.0</td>\n",
       "      <td>4</td>\n",
       "      <td>0.244</td>\n",
       "      <td>NaN</td>\n",
       "      <td>left_only</td>\n",
       "    </tr>\n",
       "  </tbody>\n",
       "</table>\n",
       "<p>5 rows × 23 columns</p>\n",
       "</div>"
      ],
      "text/plain": [
       "     playerID    G    AB    H  HR  RBI    SB    CS   BB     SO    ...      \\\n",
       "2    abadan01   15    21    2   0    0   0.0   1.0    4    5.0    ...       \n",
       "4   abbotje01  233   596  157  18   83   6.0   5.0   38   91.0    ...       \n",
       "6   abbotku01  702  2044  523  62  242  22.0  11.0  133  571.0    ...       \n",
       "9   abercre01  180   386   86   9   34  18.0   8.0   21  123.0    ...       \n",
       "10  abernbr01  232   868  212   8   79  21.0   7.0   60   93.0    ...       \n",
       "\n",
       "    Awards  Allstar  debutYear  finalYear  height  weight  career    AVG  POS  \\\n",
       "2        0        0       2001       2006    73.0   184.0       5  0.095  NaN   \n",
       "4        0        0       1997       2001    74.0   190.0       4  0.263  NaN   \n",
       "6        0        0       1993       2001    71.0   180.0       8  0.256  NaN   \n",
       "9        0        0       2006       2008    75.0   215.0       2  0.223  NaN   \n",
       "10       0        0       2001       2005    73.0   185.0       4  0.244  NaN   \n",
       "\n",
       "       _merge  \n",
       "2   left_only  \n",
       "4   left_only  \n",
       "6   left_only  \n",
       "9   left_only  \n",
       "10  left_only  \n",
       "\n",
       "[5 rows x 23 columns]"
      ]
     },
     "execution_count": 55,
     "metadata": {},
     "output_type": "execute_result"
    }
   ],
   "source": [
    "merged = merged[merged.POS != 'P']\n",
    "merged.head()"
   ]
  },
  {
   "cell_type": "code",
   "execution_count": 56,
   "metadata": {
    "collapsed": false
   },
   "outputs": [
    {
     "data": {
      "text/html": [
       "<div>\n",
       "<table border=\"1\" class=\"dataframe\">\n",
       "  <thead>\n",
       "    <tr style=\"text-align: right;\">\n",
       "      <th></th>\n",
       "      <th>playerID</th>\n",
       "      <th>H</th>\n",
       "      <th>AVG</th>\n",
       "      <th>HR</th>\n",
       "      <th>SB</th>\n",
       "      <th>CS</th>\n",
       "      <th>BB</th>\n",
       "      <th>SO</th>\n",
       "      <th>IBB</th>\n",
       "      <th>HBP</th>\n",
       "      <th>height</th>\n",
       "      <th>weight</th>\n",
       "      <th>career</th>\n",
       "      <th>Awards</th>\n",
       "      <th>Allstar</th>\n",
       "      <th>debutYear</th>\n",
       "      <th>salary</th>\n",
       "    </tr>\n",
       "  </thead>\n",
       "  <tbody>\n",
       "    <tr>\n",
       "      <th>2</th>\n",
       "      <td>abadan01</td>\n",
       "      <td>2</td>\n",
       "      <td>0.095</td>\n",
       "      <td>0</td>\n",
       "      <td>0.0</td>\n",
       "      <td>1.0</td>\n",
       "      <td>4</td>\n",
       "      <td>5.0</td>\n",
       "      <td>0.0</td>\n",
       "      <td>0.0</td>\n",
       "      <td>73.0</td>\n",
       "      <td>184.0</td>\n",
       "      <td>5</td>\n",
       "      <td>0</td>\n",
       "      <td>0</td>\n",
       "      <td>2001</td>\n",
       "      <td>327000</td>\n",
       "    </tr>\n",
       "    <tr>\n",
       "      <th>4</th>\n",
       "      <td>abbotje01</td>\n",
       "      <td>157</td>\n",
       "      <td>0.263</td>\n",
       "      <td>18</td>\n",
       "      <td>6.0</td>\n",
       "      <td>5.0</td>\n",
       "      <td>38</td>\n",
       "      <td>91.0</td>\n",
       "      <td>2.0</td>\n",
       "      <td>3.0</td>\n",
       "      <td>74.0</td>\n",
       "      <td>190.0</td>\n",
       "      <td>4</td>\n",
       "      <td>0</td>\n",
       "      <td>0</td>\n",
       "      <td>1997</td>\n",
       "      <td>246250</td>\n",
       "    </tr>\n",
       "    <tr>\n",
       "      <th>6</th>\n",
       "      <td>abbotku01</td>\n",
       "      <td>523</td>\n",
       "      <td>0.256</td>\n",
       "      <td>62</td>\n",
       "      <td>22.0</td>\n",
       "      <td>11.0</td>\n",
       "      <td>133</td>\n",
       "      <td>571.0</td>\n",
       "      <td>11.0</td>\n",
       "      <td>17.0</td>\n",
       "      <td>71.0</td>\n",
       "      <td>180.0</td>\n",
       "      <td>8</td>\n",
       "      <td>0</td>\n",
       "      <td>0</td>\n",
       "      <td>1993</td>\n",
       "      <td>470777</td>\n",
       "    </tr>\n",
       "    <tr>\n",
       "      <th>9</th>\n",
       "      <td>abercre01</td>\n",
       "      <td>86</td>\n",
       "      <td>0.223</td>\n",
       "      <td>9</td>\n",
       "      <td>18.0</td>\n",
       "      <td>8.0</td>\n",
       "      <td>21</td>\n",
       "      <td>123.0</td>\n",
       "      <td>2.0</td>\n",
       "      <td>7.0</td>\n",
       "      <td>75.0</td>\n",
       "      <td>215.0</td>\n",
       "      <td>2</td>\n",
       "      <td>0</td>\n",
       "      <td>0</td>\n",
       "      <td>2006</td>\n",
       "      <td>327000</td>\n",
       "    </tr>\n",
       "    <tr>\n",
       "      <th>10</th>\n",
       "      <td>abernbr01</td>\n",
       "      <td>212</td>\n",
       "      <td>0.244</td>\n",
       "      <td>8</td>\n",
       "      <td>21.0</td>\n",
       "      <td>7.0</td>\n",
       "      <td>60</td>\n",
       "      <td>93.0</td>\n",
       "      <td>1.0</td>\n",
       "      <td>7.0</td>\n",
       "      <td>73.0</td>\n",
       "      <td>185.0</td>\n",
       "      <td>4</td>\n",
       "      <td>0</td>\n",
       "      <td>0</td>\n",
       "      <td>2001</td>\n",
       "      <td>257500</td>\n",
       "    </tr>\n",
       "  </tbody>\n",
       "</table>\n",
       "</div>"
      ],
      "text/plain": [
       "     playerID    H    AVG  HR    SB    CS   BB     SO   IBB   HBP  height  \\\n",
       "2    abadan01    2  0.095   0   0.0   1.0    4    5.0   0.0   0.0    73.0   \n",
       "4   abbotje01  157  0.263  18   6.0   5.0   38   91.0   2.0   3.0    74.0   \n",
       "6   abbotku01  523  0.256  62  22.0  11.0  133  571.0  11.0  17.0    71.0   \n",
       "9   abercre01   86  0.223   9  18.0   8.0   21  123.0   2.0   7.0    75.0   \n",
       "10  abernbr01  212  0.244   8  21.0   7.0   60   93.0   1.0   7.0    73.0   \n",
       "\n",
       "    weight  career  Awards  Allstar  debutYear  salary  \n",
       "2    184.0       5       0        0       2001  327000  \n",
       "4    190.0       4       0        0       1997  246250  \n",
       "6    180.0       8       0        0       1993  470777  \n",
       "9    215.0       2       0        0       2006  327000  \n",
       "10   185.0       4       0        0       2001  257500  "
      ]
     },
     "execution_count": 56,
     "metadata": {},
     "output_type": "execute_result"
    }
   ],
   "source": [
    "df = merged\n",
    "df = df[['playerID', 'H','AVG', 'HR', 'SB', 'CS', 'BB', 'SO',\n",
    "        'IBB', 'HBP', 'height', 'weight', 'career', \n",
    "        'Awards', 'Allstar', 'debutYear', 'salary']]\n",
    "df.head()"
   ]
  },
  {
   "cell_type": "code",
   "execution_count": 57,
   "metadata": {
    "collapsed": false
   },
   "outputs": [
    {
     "data": {
      "text/plain": [
       "True"
      ]
     },
     "execution_count": 57,
     "metadata": {},
     "output_type": "execute_result"
    }
   ],
   "source": [
    "df.isnull().values.any()"
   ]
  },
  {
   "cell_type": "code",
   "execution_count": 58,
   "metadata": {
    "collapsed": false
   },
   "outputs": [
    {
     "data": {
      "text/plain": [
       "2336"
      ]
     },
     "execution_count": 58,
     "metadata": {},
     "output_type": "execute_result"
    }
   ],
   "source": [
    "len(df)"
   ]
  },
  {
   "cell_type": "code",
   "execution_count": 59,
   "metadata": {
    "collapsed": false
   },
   "outputs": [
    {
     "data": {
      "text/plain": [
       "False"
      ]
     },
     "execution_count": 59,
     "metadata": {},
     "output_type": "execute_result"
    }
   ],
   "source": [
    "df.duplicated().values.any()"
   ]
  },
  {
   "cell_type": "code",
   "execution_count": 60,
   "metadata": {
    "collapsed": false
   },
   "outputs": [
    {
     "data": {
      "text/html": [
       "<div>\n",
       "<table border=\"1\" class=\"dataframe\">\n",
       "  <thead>\n",
       "    <tr style=\"text-align: right;\">\n",
       "      <th></th>\n",
       "      <th>playerID</th>\n",
       "      <th>H</th>\n",
       "      <th>AVG</th>\n",
       "      <th>HR</th>\n",
       "      <th>SB</th>\n",
       "      <th>CS</th>\n",
       "      <th>BB</th>\n",
       "      <th>SO</th>\n",
       "      <th>IBB</th>\n",
       "      <th>HBP</th>\n",
       "      <th>height</th>\n",
       "      <th>weight</th>\n",
       "      <th>career</th>\n",
       "      <th>Awards</th>\n",
       "      <th>Allstar</th>\n",
       "      <th>debutYear</th>\n",
       "      <th>salary</th>\n",
       "    </tr>\n",
       "  </thead>\n",
       "  <tbody>\n",
       "    <tr>\n",
       "      <th>0</th>\n",
       "      <td>abadan01</td>\n",
       "      <td>2</td>\n",
       "      <td>0.095</td>\n",
       "      <td>0</td>\n",
       "      <td>0.0</td>\n",
       "      <td>1.0</td>\n",
       "      <td>4</td>\n",
       "      <td>5.0</td>\n",
       "      <td>0.0</td>\n",
       "      <td>0.0</td>\n",
       "      <td>73.0</td>\n",
       "      <td>184.0</td>\n",
       "      <td>5</td>\n",
       "      <td>0</td>\n",
       "      <td>0</td>\n",
       "      <td>2001</td>\n",
       "      <td>327000</td>\n",
       "    </tr>\n",
       "    <tr>\n",
       "      <th>1</th>\n",
       "      <td>abbotje01</td>\n",
       "      <td>157</td>\n",
       "      <td>0.263</td>\n",
       "      <td>18</td>\n",
       "      <td>6.0</td>\n",
       "      <td>5.0</td>\n",
       "      <td>38</td>\n",
       "      <td>91.0</td>\n",
       "      <td>2.0</td>\n",
       "      <td>3.0</td>\n",
       "      <td>74.0</td>\n",
       "      <td>190.0</td>\n",
       "      <td>4</td>\n",
       "      <td>0</td>\n",
       "      <td>0</td>\n",
       "      <td>1997</td>\n",
       "      <td>246250</td>\n",
       "    </tr>\n",
       "    <tr>\n",
       "      <th>2</th>\n",
       "      <td>abbotku01</td>\n",
       "      <td>523</td>\n",
       "      <td>0.256</td>\n",
       "      <td>62</td>\n",
       "      <td>22.0</td>\n",
       "      <td>11.0</td>\n",
       "      <td>133</td>\n",
       "      <td>571.0</td>\n",
       "      <td>11.0</td>\n",
       "      <td>17.0</td>\n",
       "      <td>71.0</td>\n",
       "      <td>180.0</td>\n",
       "      <td>8</td>\n",
       "      <td>0</td>\n",
       "      <td>0</td>\n",
       "      <td>1993</td>\n",
       "      <td>470777</td>\n",
       "    </tr>\n",
       "    <tr>\n",
       "      <th>3</th>\n",
       "      <td>abercre01</td>\n",
       "      <td>86</td>\n",
       "      <td>0.223</td>\n",
       "      <td>9</td>\n",
       "      <td>18.0</td>\n",
       "      <td>8.0</td>\n",
       "      <td>21</td>\n",
       "      <td>123.0</td>\n",
       "      <td>2.0</td>\n",
       "      <td>7.0</td>\n",
       "      <td>75.0</td>\n",
       "      <td>215.0</td>\n",
       "      <td>2</td>\n",
       "      <td>0</td>\n",
       "      <td>0</td>\n",
       "      <td>2006</td>\n",
       "      <td>327000</td>\n",
       "    </tr>\n",
       "    <tr>\n",
       "      <th>4</th>\n",
       "      <td>abernbr01</td>\n",
       "      <td>212</td>\n",
       "      <td>0.244</td>\n",
       "      <td>8</td>\n",
       "      <td>21.0</td>\n",
       "      <td>7.0</td>\n",
       "      <td>60</td>\n",
       "      <td>93.0</td>\n",
       "      <td>1.0</td>\n",
       "      <td>7.0</td>\n",
       "      <td>73.0</td>\n",
       "      <td>185.0</td>\n",
       "      <td>4</td>\n",
       "      <td>0</td>\n",
       "      <td>0</td>\n",
       "      <td>2001</td>\n",
       "      <td>257500</td>\n",
       "    </tr>\n",
       "  </tbody>\n",
       "</table>\n",
       "</div>"
      ],
      "text/plain": [
       "    playerID    H    AVG  HR    SB    CS   BB     SO   IBB   HBP  height  \\\n",
       "0   abadan01    2  0.095   0   0.0   1.0    4    5.0   0.0   0.0    73.0   \n",
       "1  abbotje01  157  0.263  18   6.0   5.0   38   91.0   2.0   3.0    74.0   \n",
       "2  abbotku01  523  0.256  62  22.0  11.0  133  571.0  11.0  17.0    71.0   \n",
       "3  abercre01   86  0.223   9  18.0   8.0   21  123.0   2.0   7.0    75.0   \n",
       "4  abernbr01  212  0.244   8  21.0   7.0   60   93.0   1.0   7.0    73.0   \n",
       "\n",
       "   weight  career  Awards  Allstar  debutYear  salary  \n",
       "0   184.0       5       0        0       2001  327000  \n",
       "1   190.0       4       0        0       1997  246250  \n",
       "2   180.0       8       0        0       1993  470777  \n",
       "3   215.0       2       0        0       2006  327000  \n",
       "4   185.0       4       0        0       2001  257500  "
      ]
     },
     "execution_count": 60,
     "metadata": {},
     "output_type": "execute_result"
    }
   ],
   "source": [
    "df = df.reset_index()\n",
    "df = df[['playerID', 'H','AVG', 'HR', 'SB', 'CS', 'BB', 'SO',\n",
    "       'IBB', 'HBP', 'height', 'weight', 'career', \n",
    "         'Awards', 'Allstar', 'debutYear', 'salary']]\n",
    "df.head()"
   ]
  },
  {
   "cell_type": "markdown",
   "metadata": {},
   "source": [
    "Analysis can now be done without pitchers being in the data."
   ]
  },
  {
   "cell_type": "markdown",
   "metadata": {},
   "source": [
    "## III. Exploratory Analysis"
   ]
  },
  {
   "cell_type": "code",
   "execution_count": 98,
   "metadata": {
    "collapsed": true
   },
   "outputs": [],
   "source": [
    "import matplotlib.pyplot as plt\n",
    "import seaborn as sns\n",
    "%matplotlib inline"
   ]
  },
  {
   "cell_type": "code",
   "execution_count": 99,
   "metadata": {
    "collapsed": false
   },
   "outputs": [
    {
     "data": {
      "image/png": "[encoded data removed]",
      "text/plain": [
       "<matplotlib.figure.Figure at 0xa790278>"
      ]
     },
     "metadata": {},
     "output_type": "display_data"
    }
   ],
   "source": [
    "# Career equal to 10 years\n",
    "df_ten_years = df[df.career == 10]\n",
    "# Career greater than and equal to 10 years\n",
    "dfm = df[df.career >= 10]\n",
    "datasets = [df, dfm, df_ten_years]\n",
    "\n",
    "#Plotting salary distributions\n",
    "titles = ['All Players', 'At least 10 years in League', '10 Years in the League']\n",
    "fig, axes = plt.subplots(1, 3,figsize=(15,6)); fig.suptitle('Distributions of Salaries')\n",
    "for i in list(range(0,3)):\n",
    "    axes[i].hist(datasets[i].salary, bins=60)\n",
    "    axes[i].set_title(titles[i])\n",
    "    axes[i].set_ylabel('Frequency'); axes[i].set_xlabel('Salaries')\n",
    "    "
   ]
  },
  {
   "cell_type": "markdown",
   "metadata": {},
   "source": [
    "The distribution of player salaries for players shows a less right skew than the extreme that was seen before excluding players with less than 10 years in the league."
   ]
  },
  {
   "cell_type": "code",
   "execution_count": 63,
   "metadata": {
    "collapsed": false
   },
   "outputs": [
    {
     "data": {
      "text/plain": [
       "0.596"
      ]
     },
     "execution_count": 63,
     "metadata": {},
     "output_type": "execute_result"
    }
   ],
   "source": [
    "from __future__ import division\n",
    "# Proportion of players with less than $600000 salary\n",
    "p = len(df[df.salary < 600000]) / len(df)\n",
    "round(p,3)"
   ]
  },
  {
   "cell_type": "markdown",
   "metadata": {},
   "source": [
    "Approximately 60% of players have less than 600 thousand dollar salary, this makes for a highly right skewed distribution since there are players averaging upwards up to 10 to 20 million dollars a year."
   ]
  },
  {
   "cell_type": "markdown",
   "metadata": {},
   "source": [
    "In order to explore the characteristics of players with higher salaries I had to recognize that there are a large amount of players in the MLB who make around the bare minimum salary of 500 thousand. This skews the data because in the MLB a player coming into the league in their first 3 years is given the minimum salary. It is only until 6 full years in the majors are players allowed to sign with the highest bidder. I want to look at players who have had more than 6 years in order to analyze players by their perceived value, not by the default and minimum salary. "
   ]
  },
  {
   "cell_type": "code",
   "execution_count": 64,
   "metadata": {
    "collapsed": true
   },
   "outputs": [],
   "source": [
    "# 50% quantile\n",
    "def groupbysalary(x):\n",
    "    global g1, g2\n",
    "    q = int(x.quantile(0.5))\n",
    "    g1 = dfm[x <= x.quantile(0.5)]\n",
    "    g2 = dfm[x > x.quantile(0.5)]\n",
    "    \n",
    "    print ('There are ' + str(len(g1)) + ' players with salary less than or equal to ' \\\n",
    "           + '$'+ str(q) + ' and ' + str(len(g2)) + ' with salary greater than ' + '$' +str(q))"
   ]
  },
  {
   "cell_type": "markdown",
   "metadata": {},
   "source": [
    "This function separates players with less than average and above average salaries into two groups **g1** and **g2** respectively."
   ]
  },
  {
   "cell_type": "code",
   "execution_count": 65,
   "metadata": {
    "collapsed": false
   },
   "outputs": [
    {
     "data": {
      "text/html": [
       "<div>\n",
       "<table border=\"1\" class=\"dataframe\">\n",
       "  <thead>\n",
       "    <tr style=\"text-align: right;\">\n",
       "      <th></th>\n",
       "      <th>H</th>\n",
       "      <th>AVG</th>\n",
       "      <th>HR</th>\n",
       "      <th>SB</th>\n",
       "      <th>CS</th>\n",
       "      <th>BB</th>\n",
       "      <th>SO</th>\n",
       "      <th>IBB</th>\n",
       "      <th>HBP</th>\n",
       "      <th>height</th>\n",
       "      <th>weight</th>\n",
       "      <th>career</th>\n",
       "      <th>Awards</th>\n",
       "      <th>Allstar</th>\n",
       "      <th>salary</th>\n",
       "    </tr>\n",
       "  </thead>\n",
       "  <tbody>\n",
       "    <tr>\n",
       "      <th>6</th>\n",
       "      <td>2470</td>\n",
       "      <td>0.291</td>\n",
       "      <td>288</td>\n",
       "      <td>400.0</td>\n",
       "      <td>128.0</td>\n",
       "      <td>1476</td>\n",
       "      <td>1840.0</td>\n",
       "      <td>115.0</td>\n",
       "      <td>33.0</td>\n",
       "      <td>72.0</td>\n",
       "      <td>220.0</td>\n",
       "      <td>18</td>\n",
       "      <td>2</td>\n",
       "      <td>2</td>\n",
       "      <td>7773729</td>\n",
       "    </tr>\n",
       "    <tr>\n",
       "      <th>25</th>\n",
       "      <td>1532</td>\n",
       "      <td>0.284</td>\n",
       "      <td>146</td>\n",
       "      <td>53.0</td>\n",
       "      <td>17.0</td>\n",
       "      <td>596</td>\n",
       "      <td>617.0</td>\n",
       "      <td>22.0</td>\n",
       "      <td>41.0</td>\n",
       "      <td>71.0</td>\n",
       "      <td>210.0</td>\n",
       "      <td>11</td>\n",
       "      <td>2</td>\n",
       "      <td>1</td>\n",
       "      <td>3935750</td>\n",
       "    </tr>\n",
       "    <tr>\n",
       "      <th>27</th>\n",
       "      <td>1031</td>\n",
       "      <td>0.260</td>\n",
       "      <td>47</td>\n",
       "      <td>81.0</td>\n",
       "      <td>50.0</td>\n",
       "      <td>500</td>\n",
       "      <td>624.0</td>\n",
       "      <td>25.0</td>\n",
       "      <td>48.0</td>\n",
       "      <td>69.0</td>\n",
       "      <td>165.0</td>\n",
       "      <td>14</td>\n",
       "      <td>0</td>\n",
       "      <td>0</td>\n",
       "      <td>693500</td>\n",
       "    </tr>\n",
       "    <tr>\n",
       "      <th>33</th>\n",
       "      <td>846</td>\n",
       "      <td>0.254</td>\n",
       "      <td>36</td>\n",
       "      <td>128.0</td>\n",
       "      <td>60.0</td>\n",
       "      <td>250</td>\n",
       "      <td>636.0</td>\n",
       "      <td>24.0</td>\n",
       "      <td>6.0</td>\n",
       "      <td>75.0</td>\n",
       "      <td>180.0</td>\n",
       "      <td>14</td>\n",
       "      <td>0</td>\n",
       "      <td>0</td>\n",
       "      <td>253750</td>\n",
       "    </tr>\n",
       "    <tr>\n",
       "      <th>34</th>\n",
       "      <td>31</td>\n",
       "      <td>0.233</td>\n",
       "      <td>2</td>\n",
       "      <td>3.0</td>\n",
       "      <td>0.0</td>\n",
       "      <td>8</td>\n",
       "      <td>29.0</td>\n",
       "      <td>0.0</td>\n",
       "      <td>1.0</td>\n",
       "      <td>74.0</td>\n",
       "      <td>245.0</td>\n",
       "      <td>10</td>\n",
       "      <td>0</td>\n",
       "      <td>0</td>\n",
       "      <td>414000</td>\n",
       "    </tr>\n",
       "  </tbody>\n",
       "</table>\n",
       "</div>"
      ],
      "text/plain": [
       "       H    AVG   HR     SB     CS    BB      SO    IBB   HBP  height  weight  \\\n",
       "6   2470  0.291  288  400.0  128.0  1476  1840.0  115.0  33.0    72.0   220.0   \n",
       "25  1532  0.284  146   53.0   17.0   596   617.0   22.0  41.0    71.0   210.0   \n",
       "27  1031  0.260   47   81.0   50.0   500   624.0   25.0  48.0    69.0   165.0   \n",
       "33   846  0.254   36  128.0   60.0   250   636.0   24.0   6.0    75.0   180.0   \n",
       "34    31  0.233    2    3.0    0.0     8    29.0    0.0   1.0    74.0   245.0   \n",
       "\n",
       "    career  Awards  Allstar   salary  \n",
       "6       18       2        2  7773729  \n",
       "25      11       2        1  3935750  \n",
       "27      14       0        0   693500  \n",
       "33      14       0        0   253750  \n",
       "34      10       0        0   414000  "
      ]
     },
     "execution_count": 65,
     "metadata": {},
     "output_type": "execute_result"
    }
   ],
   "source": [
    "dfm = dfm[['H', 'AVG', 'HR', 'SB', 'CS', 'BB', 'SO',\n",
    "       'IBB', 'HBP','height', 'weight',\n",
    "          'career', 'Awards', 'Allstar', 'salary']]\n",
    "dfm.head()"
   ]
  },
  {
   "cell_type": "code",
   "execution_count": 66,
   "metadata": {
    "collapsed": false
   },
   "outputs": [
    {
     "name": "stdout",
     "output_type": "stream",
     "text": [
      "There are 399 players with salary less than or equal to $1232250 and 399 with salary greater than $1232250\n"
     ]
    }
   ],
   "source": [
    "groupbysalary(dfm.salary)"
   ]
  },
  {
   "cell_type": "code",
   "execution_count": 67,
   "metadata": {
    "collapsed": false
   },
   "outputs": [
    {
     "data": {
      "text/html": [
       "<div>\n",
       "<table border=\"1\" class=\"dataframe\">\n",
       "  <thead>\n",
       "    <tr style=\"text-align: right;\">\n",
       "      <th></th>\n",
       "      <th>H</th>\n",
       "      <th>AVG</th>\n",
       "      <th>HR</th>\n",
       "      <th>SB</th>\n",
       "      <th>CS</th>\n",
       "      <th>BB</th>\n",
       "      <th>SO</th>\n",
       "      <th>IBB</th>\n",
       "      <th>HBP</th>\n",
       "      <th>height</th>\n",
       "      <th>weight</th>\n",
       "      <th>career</th>\n",
       "      <th>Awards</th>\n",
       "      <th>Allstar</th>\n",
       "      <th>salary</th>\n",
       "    </tr>\n",
       "  </thead>\n",
       "  <tbody>\n",
       "    <tr>\n",
       "      <th>count</th>\n",
       "      <td>399.00000</td>\n",
       "      <td>399.000000</td>\n",
       "      <td>399.000000</td>\n",
       "      <td>399.000000</td>\n",
       "      <td>399.000000</td>\n",
       "      <td>399.000000</td>\n",
       "      <td>399.000000</td>\n",
       "      <td>399.000000</td>\n",
       "      <td>399.000000</td>\n",
       "      <td>399.000000</td>\n",
       "      <td>399.000000</td>\n",
       "      <td>399.000000</td>\n",
       "      <td>399.000000</td>\n",
       "      <td>399.000000</td>\n",
       "      <td>3.990000e+02</td>\n",
       "    </tr>\n",
       "    <tr>\n",
       "      <th>mean</th>\n",
       "      <td>921.14787</td>\n",
       "      <td>0.255333</td>\n",
       "      <td>82.779449</td>\n",
       "      <td>67.769424</td>\n",
       "      <td>35.411028</td>\n",
       "      <td>339.654135</td>\n",
       "      <td>547.829574</td>\n",
       "      <td>31.205514</td>\n",
       "      <td>23.969925</td>\n",
       "      <td>72.423559</td>\n",
       "      <td>186.701754</td>\n",
       "      <td>12.847118</td>\n",
       "      <td>0.924812</td>\n",
       "      <td>0.812030</td>\n",
       "      <td>5.949799e+05</td>\n",
       "    </tr>\n",
       "    <tr>\n",
       "      <th>std</th>\n",
       "      <td>623.78613</td>\n",
       "      <td>0.021719</td>\n",
       "      <td>81.350359</td>\n",
       "      <td>94.216723</td>\n",
       "      <td>35.082551</td>\n",
       "      <td>260.518898</td>\n",
       "      <td>332.584581</td>\n",
       "      <td>32.869513</td>\n",
       "      <td>24.725917</td>\n",
       "      <td>1.935790</td>\n",
       "      <td>18.092275</td>\n",
       "      <td>2.684253</td>\n",
       "      <td>2.500117</td>\n",
       "      <td>2.068489</td>\n",
       "      <td>2.958588e+05</td>\n",
       "    </tr>\n",
       "    <tr>\n",
       "      <th>min</th>\n",
       "      <td>10.00000</td>\n",
       "      <td>0.106000</td>\n",
       "      <td>0.000000</td>\n",
       "      <td>0.000000</td>\n",
       "      <td>0.000000</td>\n",
       "      <td>6.000000</td>\n",
       "      <td>22.000000</td>\n",
       "      <td>0.000000</td>\n",
       "      <td>0.000000</td>\n",
       "      <td>66.000000</td>\n",
       "      <td>145.000000</td>\n",
       "      <td>10.000000</td>\n",
       "      <td>0.000000</td>\n",
       "      <td>0.000000</td>\n",
       "      <td>8.500000e+04</td>\n",
       "    </tr>\n",
       "    <tr>\n",
       "      <th>25%</th>\n",
       "      <td>470.50000</td>\n",
       "      <td>0.243000</td>\n",
       "      <td>27.000000</td>\n",
       "      <td>9.000000</td>\n",
       "      <td>10.000000</td>\n",
       "      <td>148.500000</td>\n",
       "      <td>310.000000</td>\n",
       "      <td>8.000000</td>\n",
       "      <td>9.000000</td>\n",
       "      <td>71.000000</td>\n",
       "      <td>175.000000</td>\n",
       "      <td>11.000000</td>\n",
       "      <td>0.000000</td>\n",
       "      <td>0.000000</td>\n",
       "      <td>3.515630e+05</td>\n",
       "    </tr>\n",
       "    <tr>\n",
       "      <th>50%</th>\n",
       "      <td>781.00000</td>\n",
       "      <td>0.257000</td>\n",
       "      <td>56.000000</td>\n",
       "      <td>29.000000</td>\n",
       "      <td>23.000000</td>\n",
       "      <td>276.000000</td>\n",
       "      <td>503.000000</td>\n",
       "      <td>22.000000</td>\n",
       "      <td>17.000000</td>\n",
       "      <td>73.000000</td>\n",
       "      <td>185.000000</td>\n",
       "      <td>12.000000</td>\n",
       "      <td>0.000000</td>\n",
       "      <td>0.000000</td>\n",
       "      <td>5.569160e+05</td>\n",
       "    </tr>\n",
       "    <tr>\n",
       "      <th>75%</th>\n",
       "      <td>1241.50000</td>\n",
       "      <td>0.270000</td>\n",
       "      <td>104.500000</td>\n",
       "      <td>87.500000</td>\n",
       "      <td>51.500000</td>\n",
       "      <td>453.000000</td>\n",
       "      <td>697.000000</td>\n",
       "      <td>41.500000</td>\n",
       "      <td>31.500000</td>\n",
       "      <td>74.000000</td>\n",
       "      <td>195.000000</td>\n",
       "      <td>14.000000</td>\n",
       "      <td>0.000000</td>\n",
       "      <td>1.000000</td>\n",
       "      <td>8.214625e+05</td>\n",
       "    </tr>\n",
       "    <tr>\n",
       "      <th>max</th>\n",
       "      <td>4256.00000</td>\n",
       "      <td>0.328000</td>\n",
       "      <td>563.000000</td>\n",
       "      <td>668.000000</td>\n",
       "      <td>187.000000</td>\n",
       "      <td>1605.000000</td>\n",
       "      <td>2597.000000</td>\n",
       "      <td>193.000000</td>\n",
       "      <td>267.000000</td>\n",
       "      <td>78.000000</td>\n",
       "      <td>250.000000</td>\n",
       "      <td>24.000000</td>\n",
       "      <td>16.000000</td>\n",
       "      <td>18.000000</td>\n",
       "      <td>1.232000e+06</td>\n",
       "    </tr>\n",
       "  </tbody>\n",
       "</table>\n",
       "</div>"
      ],
      "text/plain": [
       "                H         AVG          HR          SB          CS  \\\n",
       "count   399.00000  399.000000  399.000000  399.000000  399.000000   \n",
       "mean    921.14787    0.255333   82.779449   67.769424   35.411028   \n",
       "std     623.78613    0.021719   81.350359   94.216723   35.082551   \n",
       "min      10.00000    0.106000    0.000000    0.000000    0.000000   \n",
       "25%     470.50000    0.243000   27.000000    9.000000   10.000000   \n",
       "50%     781.00000    0.257000   56.000000   29.000000   23.000000   \n",
       "75%    1241.50000    0.270000  104.500000   87.500000   51.500000   \n",
       "max    4256.00000    0.328000  563.000000  668.000000  187.000000   \n",
       "\n",
       "                BB           SO         IBB         HBP      height  \\\n",
       "count   399.000000   399.000000  399.000000  399.000000  399.000000   \n",
       "mean    339.654135   547.829574   31.205514   23.969925   72.423559   \n",
       "std     260.518898   332.584581   32.869513   24.725917    1.935790   \n",
       "min       6.000000    22.000000    0.000000    0.000000   66.000000   \n",
       "25%     148.500000   310.000000    8.000000    9.000000   71.000000   \n",
       "50%     276.000000   503.000000   22.000000   17.000000   73.000000   \n",
       "75%     453.000000   697.000000   41.500000   31.500000   74.000000   \n",
       "max    1605.000000  2597.000000  193.000000  267.000000   78.000000   \n",
       "\n",
       "           weight      career      Awards     Allstar        salary  \n",
       "count  399.000000  399.000000  399.000000  399.000000  3.990000e+02  \n",
       "mean   186.701754   12.847118    0.924812    0.812030  5.949799e+05  \n",
       "std     18.092275    2.684253    2.500117    2.068489  2.958588e+05  \n",
       "min    145.000000   10.000000    0.000000    0.000000  8.500000e+04  \n",
       "25%    175.000000   11.000000    0.000000    0.000000  3.515630e+05  \n",
       "50%    185.000000   12.000000    0.000000    0.000000  5.569160e+05  \n",
       "75%    195.000000   14.000000    0.000000    1.000000  8.214625e+05  \n",
       "max    250.000000   24.000000   16.000000   18.000000  1.232000e+06  "
      ]
     },
     "execution_count": 67,
     "metadata": {},
     "output_type": "execute_result"
    }
   ],
   "source": [
    "g1.describe()"
   ]
  },
  {
   "cell_type": "code",
   "execution_count": 68,
   "metadata": {
    "collapsed": false,
    "scrolled": true
   },
   "outputs": [
    {
     "data": {
      "text/html": [
       "<div>\n",
       "<table border=\"1\" class=\"dataframe\">\n",
       "  <thead>\n",
       "    <tr style=\"text-align: right;\">\n",
       "      <th></th>\n",
       "      <th>H</th>\n",
       "      <th>AVG</th>\n",
       "      <th>HR</th>\n",
       "      <th>SB</th>\n",
       "      <th>CS</th>\n",
       "      <th>BB</th>\n",
       "      <th>SO</th>\n",
       "      <th>IBB</th>\n",
       "      <th>HBP</th>\n",
       "      <th>height</th>\n",
       "      <th>weight</th>\n",
       "      <th>career</th>\n",
       "      <th>Awards</th>\n",
       "      <th>Allstar</th>\n",
       "      <th>salary</th>\n",
       "    </tr>\n",
       "  </thead>\n",
       "  <tbody>\n",
       "    <tr>\n",
       "      <th>count</th>\n",
       "      <td>399.000000</td>\n",
       "      <td>399.000000</td>\n",
       "      <td>399.000000</td>\n",
       "      <td>399.000000</td>\n",
       "      <td>399.000000</td>\n",
       "      <td>399.000000</td>\n",
       "      <td>399.000000</td>\n",
       "      <td>399.000000</td>\n",
       "      <td>399.000000</td>\n",
       "      <td>399.000000</td>\n",
       "      <td>399.000000</td>\n",
       "      <td>399.000000</td>\n",
       "      <td>399.000000</td>\n",
       "      <td>399.000000</td>\n",
       "      <td>3.990000e+02</td>\n",
       "    </tr>\n",
       "    <tr>\n",
       "      <th>mean</th>\n",
       "      <td>1600.644110</td>\n",
       "      <td>0.273867</td>\n",
       "      <td>201.862155</td>\n",
       "      <td>129.125313</td>\n",
       "      <td>50.548872</td>\n",
       "      <td>607.701754</td>\n",
       "      <td>994.401003</td>\n",
       "      <td>57.255639</td>\n",
       "      <td>53.486216</td>\n",
       "      <td>72.814536</td>\n",
       "      <td>197.508772</td>\n",
       "      <td>13.614035</td>\n",
       "      <td>4.065163</td>\n",
       "      <td>2.766917</td>\n",
       "      <td>4.087245e+06</td>\n",
       "    </tr>\n",
       "    <tr>\n",
       "      <th>std</th>\n",
       "      <td>602.344034</td>\n",
       "      <td>0.017887</td>\n",
       "      <td>131.727042</td>\n",
       "      <td>147.590801</td>\n",
       "      <td>41.163383</td>\n",
       "      <td>332.430200</td>\n",
       "      <td>382.599512</td>\n",
       "      <td>58.493266</td>\n",
       "      <td>37.981802</td>\n",
       "      <td>2.110202</td>\n",
       "      <td>22.961171</td>\n",
       "      <td>3.011937</td>\n",
       "      <td>6.333745</td>\n",
       "      <td>3.292798</td>\n",
       "      <td>2.885068e+06</td>\n",
       "    </tr>\n",
       "    <tr>\n",
       "      <th>min</th>\n",
       "      <td>462.000000</td>\n",
       "      <td>0.229000</td>\n",
       "      <td>11.000000</td>\n",
       "      <td>2.000000</td>\n",
       "      <td>2.000000</td>\n",
       "      <td>106.000000</td>\n",
       "      <td>292.000000</td>\n",
       "      <td>0.000000</td>\n",
       "      <td>2.000000</td>\n",
       "      <td>67.000000</td>\n",
       "      <td>145.000000</td>\n",
       "      <td>10.000000</td>\n",
       "      <td>0.000000</td>\n",
       "      <td>0.000000</td>\n",
       "      <td>1.232500e+06</td>\n",
       "    </tr>\n",
       "    <tr>\n",
       "      <th>25%</th>\n",
       "      <td>1166.000000</td>\n",
       "      <td>0.262000</td>\n",
       "      <td>108.000000</td>\n",
       "      <td>34.500000</td>\n",
       "      <td>21.000000</td>\n",
       "      <td>372.000000</td>\n",
       "      <td>707.500000</td>\n",
       "      <td>22.000000</td>\n",
       "      <td>28.000000</td>\n",
       "      <td>71.000000</td>\n",
       "      <td>180.000000</td>\n",
       "      <td>11.000000</td>\n",
       "      <td>0.000000</td>\n",
       "      <td>0.000000</td>\n",
       "      <td>1.903416e+06</td>\n",
       "    </tr>\n",
       "    <tr>\n",
       "      <th>50%</th>\n",
       "      <td>1503.000000</td>\n",
       "      <td>0.273000</td>\n",
       "      <td>168.000000</td>\n",
       "      <td>85.000000</td>\n",
       "      <td>39.000000</td>\n",
       "      <td>526.000000</td>\n",
       "      <td>953.000000</td>\n",
       "      <td>39.000000</td>\n",
       "      <td>45.000000</td>\n",
       "      <td>73.000000</td>\n",
       "      <td>195.000000</td>\n",
       "      <td>13.000000</td>\n",
       "      <td>1.000000</td>\n",
       "      <td>2.000000</td>\n",
       "      <td>3.273133e+06</td>\n",
       "    </tr>\n",
       "    <tr>\n",
       "      <th>75%</th>\n",
       "      <td>1959.500000</td>\n",
       "      <td>0.285000</td>\n",
       "      <td>282.000000</td>\n",
       "      <td>175.000000</td>\n",
       "      <td>68.000000</td>\n",
       "      <td>761.000000</td>\n",
       "      <td>1238.000000</td>\n",
       "      <td>72.000000</td>\n",
       "      <td>69.000000</td>\n",
       "      <td>74.000000</td>\n",
       "      <td>215.000000</td>\n",
       "      <td>16.000000</td>\n",
       "      <td>5.000000</td>\n",
       "      <td>4.000000</td>\n",
       "      <td>5.374860e+06</td>\n",
       "    </tr>\n",
       "    <tr>\n",
       "      <th>max</th>\n",
       "      <td>3465.000000</td>\n",
       "      <td>0.338000</td>\n",
       "      <td>762.000000</td>\n",
       "      <td>1406.000000</td>\n",
       "      <td>335.000000</td>\n",
       "      <td>2558.000000</td>\n",
       "      <td>2548.000000</td>\n",
       "      <td>688.000000</td>\n",
       "      <td>285.000000</td>\n",
       "      <td>80.000000</td>\n",
       "      <td>295.000000</td>\n",
       "      <td>25.000000</td>\n",
       "      <td>47.000000</td>\n",
       "      <td>19.000000</td>\n",
       "      <td>1.810983e+07</td>\n",
       "    </tr>\n",
       "  </tbody>\n",
       "</table>\n",
       "</div>"
      ],
      "text/plain": [
       "                 H         AVG          HR           SB          CS  \\\n",
       "count   399.000000  399.000000  399.000000   399.000000  399.000000   \n",
       "mean   1600.644110    0.273867  201.862155   129.125313   50.548872   \n",
       "std     602.344034    0.017887  131.727042   147.590801   41.163383   \n",
       "min     462.000000    0.229000   11.000000     2.000000    2.000000   \n",
       "25%    1166.000000    0.262000  108.000000    34.500000   21.000000   \n",
       "50%    1503.000000    0.273000  168.000000    85.000000   39.000000   \n",
       "75%    1959.500000    0.285000  282.000000   175.000000   68.000000   \n",
       "max    3465.000000    0.338000  762.000000  1406.000000  335.000000   \n",
       "\n",
       "                BB           SO         IBB         HBP      height  \\\n",
       "count   399.000000   399.000000  399.000000  399.000000  399.000000   \n",
       "mean    607.701754   994.401003   57.255639   53.486216   72.814536   \n",
       "std     332.430200   382.599512   58.493266   37.981802    2.110202   \n",
       "min     106.000000   292.000000    0.000000    2.000000   67.000000   \n",
       "25%     372.000000   707.500000   22.000000   28.000000   71.000000   \n",
       "50%     526.000000   953.000000   39.000000   45.000000   73.000000   \n",
       "75%     761.000000  1238.000000   72.000000   69.000000   74.000000   \n",
       "max    2558.000000  2548.000000  688.000000  285.000000   80.000000   \n",
       "\n",
       "           weight      career      Awards     Allstar        salary  \n",
       "count  399.000000  399.000000  399.000000  399.000000  3.990000e+02  \n",
       "mean   197.508772   13.614035    4.065163    2.766917  4.087245e+06  \n",
       "std     22.961171    3.011937    6.333745    3.292798  2.885068e+06  \n",
       "min    145.000000   10.000000    0.000000    0.000000  1.232500e+06  \n",
       "25%    180.000000   11.000000    0.000000    0.000000  1.903416e+06  \n",
       "50%    195.000000   13.000000    1.000000    2.000000  3.273133e+06  \n",
       "75%    215.000000   16.000000    5.000000    4.000000  5.374860e+06  \n",
       "max    295.000000   25.000000   47.000000   19.000000  1.810983e+07  "
      ]
     },
     "execution_count": 68,
     "metadata": {},
     "output_type": "execute_result"
    }
   ],
   "source": [
    "g2.describe()"
   ]
  },
  {
   "cell_type": "markdown",
   "metadata": {},
   "source": [
    "Looking at these two dataframes that show the descriptive statistics or 'descriptives' I can begin to get a glimpse at the differences between the two populations of players. A good way to do this is to compare the means between the two groups for the different variables."
   ]
  },
  {
   "cell_type": "code",
   "execution_count": 69,
   "metadata": {
    "collapsed": false
   },
   "outputs": [
    {
     "data": {
      "text/html": [
       "<div>\n",
       "<table border=\"1\" class=\"dataframe\">\n",
       "  <thead>\n",
       "    <tr style=\"text-align: right;\">\n",
       "      <th></th>\n",
       "      <th>H</th>\n",
       "      <th>AVG</th>\n",
       "      <th>HR</th>\n",
       "      <th>SB</th>\n",
       "      <th>CS</th>\n",
       "      <th>BB</th>\n",
       "      <th>SO</th>\n",
       "      <th>IBB</th>\n",
       "      <th>HBP</th>\n",
       "      <th>height</th>\n",
       "      <th>weight</th>\n",
       "      <th>career</th>\n",
       "      <th>Awards</th>\n",
       "      <th>Allstar</th>\n",
       "      <th>salary</th>\n",
       "    </tr>\n",
       "  </thead>\n",
       "  <tbody>\n",
       "    <tr>\n",
       "      <th>Group1</th>\n",
       "      <td>921.14787</td>\n",
       "      <td>0.255333</td>\n",
       "      <td>82.779449</td>\n",
       "      <td>67.769424</td>\n",
       "      <td>35.411028</td>\n",
       "      <td>339.654135</td>\n",
       "      <td>547.829574</td>\n",
       "      <td>31.205514</td>\n",
       "      <td>23.969925</td>\n",
       "      <td>72.423559</td>\n",
       "      <td>186.701754</td>\n",
       "      <td>12.847118</td>\n",
       "      <td>0.924812</td>\n",
       "      <td>0.812030</td>\n",
       "      <td>5.949799e+05</td>\n",
       "    </tr>\n",
       "    <tr>\n",
       "      <th>Group2</th>\n",
       "      <td>1600.64411</td>\n",
       "      <td>0.273867</td>\n",
       "      <td>201.862155</td>\n",
       "      <td>129.125313</td>\n",
       "      <td>50.548872</td>\n",
       "      <td>607.701754</td>\n",
       "      <td>994.401003</td>\n",
       "      <td>57.255639</td>\n",
       "      <td>53.486216</td>\n",
       "      <td>72.814536</td>\n",
       "      <td>197.508772</td>\n",
       "      <td>13.614035</td>\n",
       "      <td>4.065163</td>\n",
       "      <td>2.766917</td>\n",
       "      <td>4.087245e+06</td>\n",
       "    </tr>\n",
       "  </tbody>\n",
       "</table>\n",
       "</div>"
      ],
      "text/plain": [
       "                 H       AVG          HR          SB         CS          BB  \\\n",
       "Group1   921.14787  0.255333   82.779449   67.769424  35.411028  339.654135   \n",
       "Group2  1600.64411  0.273867  201.862155  129.125313  50.548872  607.701754   \n",
       "\n",
       "                SO        IBB        HBP     height      weight     career  \\\n",
       "Group1  547.829574  31.205514  23.969925  72.423559  186.701754  12.847118   \n",
       "Group2  994.401003  57.255639  53.486216  72.814536  197.508772  13.614035   \n",
       "\n",
       "          Awards   Allstar        salary  \n",
       "Group1  0.924812  0.812030  5.949799e+05  \n",
       "Group2  4.065163  2.766917  4.087245e+06  "
      ]
     },
     "execution_count": 69,
     "metadata": {},
     "output_type": "execute_result"
    }
   ],
   "source": [
    "dfofMeans = pd.DataFrame([g1.mean(), g2.mean()], index=[['Group1','Group2']])\n",
    "a = ['H', 'AVG', 'HR', 'SB', 'CS', 'BB', 'SO',\n",
    "       'IBB', 'HBP', 'height', 'weight', \n",
    "     'career', 'Awards', 'Allstar', 'salary']\n",
    "dfofMeans.loc[:,a]"
   ]
  },
  {
   "cell_type": "markdown",
   "metadata": {},
   "source": [
    "With this dataframe of means we can begin to imagine that players with above average salaries get more hits, homeruns, might be taller and weigh more, have more awards and allstar appearances."
   ]
  },
  {
   "cell_type": "code",
   "execution_count": 100,
   "metadata": {
    "collapsed": false
   },
   "outputs": [
    {
     "data": {
      "image/png": "[encoded data removed]",
      "text/plain": [
       "<matplotlib.figure.Figure at 0x19472fd0>"
      ]
     },
     "metadata": {},
     "output_type": "display_data"
    }
   ],
   "source": [
    "plot_titles = ['Hits', 'Batting Average', 'Homeruns', 'Stolen Bases', 'Caught Stealing', 'Base on Balls', 'Strike Outs',\n",
    "              'Intentional Base on Balls', 'Hit by Pitch', 'Height', 'Weight', 'Career', 'Awards', 'Allstars']\n",
    "fig2, axes = plt.subplots(7,2, figsize=(13, 19))\n",
    "fig2.suptitle('Boxplots comparing Group 1 and 2 Baseball Stats', fontsize=15, fontweight=12)\n",
    "fig2.subplots_adjust(hspace=0.5)\n",
    "k=0\n",
    "for i in range(7):\n",
    "    for j in range(2):\n",
    "        axes[i,j].boxplot([g1[g1.columns[k]], g2[g2.columns[k]]])\n",
    "        axes[i,j].set_title(plot_titles[k])\n",
    "        axes[i,j].set_ylabel(g1.columns[k])\n",
    "        axes[i,j].set_xticklabels(['Group 1', 'Group 2'])\n",
    "        \n",
    "        k+=1\n"
   ]
  },
  {
   "cell_type": "markdown",
   "metadata": {},
   "source": [
    "From these boxplots we can compare the differences between the lower and higher salary players, as well as outliers contributing to the descriptive statistics. From these visualizations we can see where the biggest differences are in."
   ]
  },
  {
   "cell_type": "markdown",
   "metadata": {},
   "source": [
    "## Statistical Inference and Hypothesis Testing\n",
    "\n",
    "To begin to make statistical inferences on the data and to draw conclusions on the population of players with careers of 10 years or more, I will take random samples of sample size of at most 10% of the population."
   ]
  },
  {
   "cell_type": "code",
   "execution_count": 71,
   "metadata": {
    "collapsed": false
   },
   "outputs": [],
   "source": [
    "import random\n",
    "from scipy import stats"
   ]
  },
  {
   "cell_type": "code",
   "execution_count": 72,
   "metadata": {
    "collapsed": false
   },
   "outputs": [
    {
     "name": "stdout",
     "output_type": "stream",
     "text": [
      "sample size: 80\n"
     ]
    },
    {
     "data": {
      "text/html": [
       "<div>\n",
       "<table border=\"1\" class=\"dataframe\">\n",
       "  <thead>\n",
       "    <tr style=\"text-align: right;\">\n",
       "      <th></th>\n",
       "      <th>H</th>\n",
       "      <th>AVG</th>\n",
       "      <th>HR</th>\n",
       "      <th>SB</th>\n",
       "      <th>CS</th>\n",
       "      <th>BB</th>\n",
       "      <th>SO</th>\n",
       "      <th>IBB</th>\n",
       "      <th>HBP</th>\n",
       "      <th>height</th>\n",
       "      <th>weight</th>\n",
       "      <th>career</th>\n",
       "      <th>Awards</th>\n",
       "      <th>Allstar</th>\n",
       "      <th>salary</th>\n",
       "    </tr>\n",
       "  </thead>\n",
       "  <tbody>\n",
       "    <tr>\n",
       "      <th>85</th>\n",
       "      <td>775</td>\n",
       "      <td>0.264</td>\n",
       "      <td>9</td>\n",
       "      <td>90.0</td>\n",
       "      <td>36.0</td>\n",
       "      <td>187</td>\n",
       "      <td>164.0</td>\n",
       "      <td>10.0</td>\n",
       "      <td>20.0</td>\n",
       "      <td>71.0</td>\n",
       "      <td>170.0</td>\n",
       "      <td>10</td>\n",
       "      <td>0</td>\n",
       "      <td>0</td>\n",
       "      <td>352500</td>\n",
       "    </tr>\n",
       "    <tr>\n",
       "      <th>2211</th>\n",
       "      <td>2160</td>\n",
       "      <td>0.313</td>\n",
       "      <td>383</td>\n",
       "      <td>230.0</td>\n",
       "      <td>76.0</td>\n",
       "      <td>913</td>\n",
       "      <td>1231.0</td>\n",
       "      <td>117.0</td>\n",
       "      <td>138.0</td>\n",
       "      <td>74.0</td>\n",
       "      <td>185.0</td>\n",
       "      <td>16</td>\n",
       "      <td>14</td>\n",
       "      <td>5</td>\n",
       "      <td>7357562</td>\n",
       "    </tr>\n",
       "    <tr>\n",
       "      <th>259</th>\n",
       "      <td>1001</td>\n",
       "      <td>0.257</td>\n",
       "      <td>141</td>\n",
       "      <td>57.0</td>\n",
       "      <td>30.0</td>\n",
       "      <td>348</td>\n",
       "      <td>699.0</td>\n",
       "      <td>12.0</td>\n",
       "      <td>47.0</td>\n",
       "      <td>73.0</td>\n",
       "      <td>200.0</td>\n",
       "      <td>10</td>\n",
       "      <td>4</td>\n",
       "      <td>1</td>\n",
       "      <td>2256300</td>\n",
       "    </tr>\n",
       "    <tr>\n",
       "      <th>392</th>\n",
       "      <td>1868</td>\n",
       "      <td>0.261</td>\n",
       "      <td>316</td>\n",
       "      <td>24.0</td>\n",
       "      <td>29.0</td>\n",
       "      <td>1012</td>\n",
       "      <td>1235.0</td>\n",
       "      <td>117.0</td>\n",
       "      <td>62.0</td>\n",
       "      <td>70.0</td>\n",
       "      <td>185.0</td>\n",
       "      <td>16</td>\n",
       "      <td>3</td>\n",
       "      <td>6</td>\n",
       "      <td>1300000</td>\n",
       "    </tr>\n",
       "    <tr>\n",
       "      <th>1970</th>\n",
       "      <td>48</td>\n",
       "      <td>0.190</td>\n",
       "      <td>1</td>\n",
       "      <td>2.0</td>\n",
       "      <td>1.0</td>\n",
       "      <td>17</td>\n",
       "      <td>35.0</td>\n",
       "      <td>1.0</td>\n",
       "      <td>1.0</td>\n",
       "      <td>69.0</td>\n",
       "      <td>174.0</td>\n",
       "      <td>11</td>\n",
       "      <td>0</td>\n",
       "      <td>0</td>\n",
       "      <td>150000</td>\n",
       "    </tr>\n",
       "  </tbody>\n",
       "</table>\n",
       "</div>"
      ],
      "text/plain": [
       "         H    AVG   HR     SB    CS    BB      SO    IBB    HBP  height  \\\n",
       "85     775  0.264    9   90.0  36.0   187   164.0   10.0   20.0    71.0   \n",
       "2211  2160  0.313  383  230.0  76.0   913  1231.0  117.0  138.0    74.0   \n",
       "259   1001  0.257  141   57.0  30.0   348   699.0   12.0   47.0    73.0   \n",
       "392   1868  0.261  316   24.0  29.0  1012  1235.0  117.0   62.0    70.0   \n",
       "1970    48  0.190    1    2.0   1.0    17    35.0    1.0    1.0    69.0   \n",
       "\n",
       "      weight  career  Awards  Allstar   salary  \n",
       "85     170.0      10       0        0   352500  \n",
       "2211   185.0      16      14        5  7357562  \n",
       "259    200.0      10       4        1  2256300  \n",
       "392    185.0      16       3        6  1300000  \n",
       "1970   174.0      11       0        0   150000  "
      ]
     },
     "execution_count": 72,
     "metadata": {},
     "output_type": "execute_result"
    }
   ],
   "source": [
    "sample_size = int(round(len(dfm) * .10, 0))\n",
    "print('sample size: ' + str(sample_size))\n",
    "dfm.sample(sample_size).head()"
   ]
  },
  {
   "cell_type": "markdown",
   "metadata": {},
   "source": [
    "The first six observations for the random sample of 80 players with careers of at least 10 years."
   ]
  },
  {
   "cell_type": "code",
   "execution_count": 101,
   "metadata": {
    "collapsed": false
   },
   "outputs": [
    {
     "data": {
      "image/png": "[encoded data removed]",
      "text/plain": [
       "<matplotlib.figure.Figure at 0x125caef0>"
      ]
     },
     "metadata": {},
     "output_type": "display_data"
    },
    {
     "data": {
      "text/plain": [
       "(192.114, 0.080958922410037576)"
      ]
     },
     "execution_count": 101,
     "metadata": {},
     "output_type": "execute_result"
    }
   ],
   "source": [
    "p_xlabel = {'H':'Hits', 'AVG':'Career Batting Average', 'HR':'Homeruns', 'height':'Height', 'weight':'Weight', \n",
    "           'Awards':'Awards Won', 'Allstar':'Allstar Appearances', 'salary':'Salary'}\n",
    "\n",
    "def meanSampler(x, n, var, hist=True, output=False):\n",
    "    sample_means = []\n",
    "    i = 0\n",
    "    while i < n:\n",
    "        sample = x.sample(int(.10 * len(x)))\n",
    "        sample_mean = sample[var].mean()\n",
    "        sample_means.append(sample_mean)\n",
    "        \n",
    "        i += 1\n",
    "        \n",
    "    sample_means = pd.Series(sample_means)\n",
    "    if hist:\n",
    "        plt.hist(sample_means, bins=40)\n",
    "        plt.title('Sample Distribution' + ' for ' + p_xlabel[var])\n",
    "        plt.xlabel(p_xlabel[var])\n",
    "        plt.ylabel('Frequency')\n",
    "        plt.show()\n",
    "    \n",
    "    N = len(x)\n",
    "    xbar = round(sample_means.median(), 3)\n",
    "    s = round((sample_means.std(ddof=1)), 3)\n",
    "    SE = s / np.sqrt(N)\n",
    "    if output:\n",
    "        return xbar, SE\n",
    "    else:\n",
    "        print('sample mean: ' + str(xbar))\n",
    "        print('sample standard deviation: ' + str(s))\n",
    "        print('standard error: ' + str(SE))\n",
    "\n",
    "meanSampler(dfm, n=10000, var='weight', hist=True, output=True)"
   ]
  },
  {
   "cell_type": "markdown",
   "metadata": {},
   "source": [
    "A histogram of 10000 sample means for player weight."
   ]
  },
  {
   "cell_type": "markdown",
   "metadata": {},
   "source": [
    "Because our sample sizes are greater than 30(it is 80) our sampling distributions are well approximated by the normal model. As such we can assume that the true means are within **1.96** standard deviations of the sample mean."
   ]
  },
  {
   "cell_type": "markdown",
   "metadata": {},
   "source": [
    "**Testing hypotheses using confidence intervals**"
   ]
  },
  {
   "cell_type": "code",
   "execution_count": 75,
   "metadata": {
    "collapsed": true
   },
   "outputs": [],
   "source": [
    "def CInt(sample_mean, SE, z=1.96):\n",
    "    leftPoint = round((sample_mean - z * SE), 3)\n",
    "    rightPoint = round((sample_mean + z * SE), 3)\n",
    "    CI = (leftPoint, rightPoint)\n",
    "    return CI"
   ]
  },
  {
   "cell_type": "markdown",
   "metadata": {},
   "source": [
    "This function will return a confidence interval. Confidence level can be adjusted by the 'z' argument. In this case a **95%** confidence interval will be constructed."
   ]
  },
  {
   "cell_type": "code",
   "execution_count": 89,
   "metadata": {
    "collapsed": false
   },
   "outputs": [],
   "source": [
    "def CItest(df, df2): \n",
    "    ''' df should be dataframe that you wish to build confidence interval for.\n",
    "        df2 will only compare its sample mean(xbar2) to check if inside boundary.'''\n",
    "    varNames = df.columns[:-1]\n",
    "    for i in range(len(varNames)):\n",
    "        xbar = df[varNames[i]].mean()\n",
    "        xbar2 = df2[varNames[i]].mean()\n",
    "        s = round((df[varNames[i]].std(ddof=1)), 3)\n",
    "        SE = s / np.sqrt(len(df))\n",
    "        \n",
    "        \n",
    "        \n",
    "        Conf = CInt(sample_mean=xbar, SE=SE, z=1.96)\n",
    "        if Conf[0] <= xbar2 <= Conf[-1]:\n",
    "            print('Fail to reject null hypothesis.')\n",
    "        else:\n",
    "            print('--' + varNames[i] + '--')\n",
    "            print('Reject Null hypothesis.')\n",
    "            print('Confidence Interval: ' + str(Conf)); print(str(round(xbar2, 3))+' Does not lie within confidence interval.\\n')\n",
    "        "
   ]
  },
  {
   "cell_type": "markdown",
   "metadata": {},
   "source": [
    "I expect higher paid players to generally have higher stats in most categories being analyzed. In order to show this I will use confidence intervals for testing my hypotheses. \n",
    "\n",
    "**Null Hypotheses:** There is no significant difference between Lower and Higher Salary group means.\n",
    "* Fail to reject Null when Lower Salary group(Group 1) sample mean does not lie within confidence interval of Higher Salary(Group 2) sample mean.\n",
    "\n",
    "**Alternative Hypotheses:** There is significant difference between Lower and Higher Salary group means.\n",
    "* Reject Null when Lower Salary Group sample mean lies within confidence interval of Higher Salary Group sample mean. "
   ]
  },
  {
   "cell_type": "code",
   "execution_count": 90,
   "metadata": {
    "collapsed": false
   },
   "outputs": [
    {
     "name": "stdout",
     "output_type": "stream",
     "text": [
      "--H--\n",
      "Reject Null hypothesis.\n",
      "Confidence Interval: (1541.54, 1659.748)\n",
      "921.148 Does not lie within confidence interval.\n",
      "\n",
      "--AVG--\n",
      "Reject Null hypothesis.\n",
      "Confidence Interval: (0.272, 0.276)\n",
      "0.255 Does not lie within confidence interval.\n",
      "\n",
      "--HR--\n",
      "Reject Null hypothesis.\n",
      "Confidence Interval: (188.937, 214.788)\n",
      "82.779 Does not lie within confidence interval.\n",
      "\n",
      "--SB--\n",
      "Reject Null hypothesis.\n",
      "Confidence Interval: (114.643, 143.607)\n",
      "67.769 Does not lie within confidence interval.\n",
      "\n",
      "--CS--\n",
      "Reject Null hypothesis.\n",
      "Confidence Interval: (46.51, 54.588)\n",
      "35.411 Does not lie within confidence interval.\n",
      "\n",
      "--BB--\n",
      "Reject Null hypothesis.\n",
      "Confidence Interval: (575.083, 640.321)\n",
      "339.654 Does not lie within confidence interval.\n",
      "\n",
      "--SO--\n",
      "Reject Null hypothesis.\n",
      "Confidence Interval: (956.859, 1031.943)\n",
      "547.83 Does not lie within confidence interval.\n",
      "\n",
      "--IBB--\n",
      "Reject Null hypothesis.\n",
      "Confidence Interval: (51.516, 62.995)\n",
      "31.206 Does not lie within confidence interval.\n",
      "\n",
      "--HBP--\n",
      "Reject Null hypothesis.\n",
      "Confidence Interval: (49.759, 57.213)\n",
      "23.97 Does not lie within confidence interval.\n",
      "\n",
      "--height--\n",
      "Reject Null hypothesis.\n",
      "Confidence Interval: (72.607, 73.022)\n",
      "72.424 Does not lie within confidence interval.\n",
      "\n",
      "--weight--\n",
      "Reject Null hypothesis.\n",
      "Confidence Interval: (195.256, 199.762)\n",
      "186.702 Does not lie within confidence interval.\n",
      "\n",
      "--career--\n",
      "Reject Null hypothesis.\n",
      "Confidence Interval: (13.318, 13.91)\n",
      "12.847 Does not lie within confidence interval.\n",
      "\n",
      "--Awards--\n",
      "Reject Null hypothesis.\n",
      "Confidence Interval: (3.444, 4.687)\n",
      "0.925 Does not lie within confidence interval.\n",
      "\n",
      "--Allstar--\n",
      "Reject Null hypothesis.\n",
      "Confidence Interval: (2.444, 3.09)\n",
      "0.812 Does not lie within confidence interval.\n",
      "\n"
     ]
    }
   ],
   "source": [
    "CItest(df=g2, df2=g1)"
   ]
  },
  {
   "cell_type": "markdown",
   "metadata": {},
   "source": [
    "We are **95%** confident that the true averages for the variables for the Higher Salary group are between their respective intervals. Because the averages for the Lower Salary group are all outside these confidence intervals, we can say that it is plausible to reject the null hypothesis that there is no difference between the means of the two groups.\n",
    "\n",
    "As such higher paid players can expect to have higher stats across all of the above metrics."
   ]
  },
  {
   "cell_type": "markdown",
   "metadata": {},
   "source": [
    "## Relationships between variables.\n",
    "\n",
    "Keeping track of homerun records and milestones are seen as important parts to following a baseball season. Players with the ability to effectively pull for homeruns affect game strategy considerably and are some of the most exciting players to watch for fans. As such I will look at how Homeruns affect other performance metrics."
   ]
  },
  {
   "cell_type": "code",
   "execution_count": 102,
   "metadata": {
    "collapsed": false
   },
   "outputs": [
    {
     "data": {
      "text/plain": [
       "(0, 900.0)"
      ]
     },
     "execution_count": 102,
     "metadata": {},
     "output_type": "execute_result"
    },
    {
     "data": {
      "image/png": "[encoded data removed]",
      "text/plain": [
       "<matplotlib.figure.Figure at 0x19451240>"
      ]
     },
     "metadata": {},
     "output_type": "display_data"
    }
   ],
   "source": [
    "plt.scatter(data=dfm, x='HR', y='salary')\n",
    "plt.xlabel('Homeruns'), plt.ylabel('Salary'), plt.title('Salaries and Homeruns Scatter Plot')\n",
    "plt.ylim(ymin=0)\n",
    "plt.xlim(xmin=0)"
   ]
  },
  {
   "cell_type": "markdown",
   "metadata": {},
   "source": [
    "Looking at this scatter it may be easy to imagine some linear relationship between homeruns and salary. The more homeruns the more a player gets paid is a logical assumption."
   ]
  },
  {
   "cell_type": "markdown",
   "metadata": {},
   "source": [
    "After looking at the scatter plot, I will compute the correlation statistic in order to quantify the strength of the relationship between the two variables."
   ]
  },
  {
   "cell_type": "markdown",
   "metadata": {},
   "source": [
    "Since the variables are not the same units I will transform each value into standard scores."
   ]
  },
  {
   "cell_type": "code",
   "execution_count": 104,
   "metadata": {
    "collapsed": false
   },
   "outputs": [],
   "source": [
    "def standardize(xs):\n",
    "    xs = np.asarray(xs)\n",
    "    meanx = xs.mean()\n",
    "    standev = xs.std()\n",
    "    \n",
    "    ys = (xs - meanx) / standev\n",
    "    return ys"
   ]
  },
  {
   "cell_type": "markdown",
   "metadata": {},
   "source": [
    "**Pearson's correlation**"
   ]
  },
  {
   "cell_type": "code",
   "execution_count": 105,
   "metadata": {
    "collapsed": false
   },
   "outputs": [
    {
     "data": {
      "text/plain": [
       "0.62119267811877166"
      ]
     },
     "execution_count": 105,
     "metadata": {},
     "output_type": "execute_result"
    }
   ],
   "source": [
    "# np.array([standardize(df.HR), standardize(df.salary)])\n",
    "pd.Series(standardize(dfm.HR)).corr(pd.Series(standardize(dfm.salary)), method='pearson')"
   ]
  },
  {
   "cell_type": "markdown",
   "metadata": {},
   "source": [
    "A pearson correlation of 0.62 implies a strong linear relationship between the two variables. That is when the number of homeruns increase, we should expect salary to also increase."
   ]
  },
  {
   "cell_type": "code",
   "execution_count": 106,
   "metadata": {
    "collapsed": false
   },
   "outputs": [],
   "source": [
    "HRs = standardize(dfm.HR)\n",
    "SALARYs = standardize(dfm.salary)\n",
    "\n",
    "def Cov(xs, ys):\n",
    "    #Standardize both series.\n",
    "    xs = standardize(np.asarray(xs))\n",
    "    ys = standardize(np.asarray(ys))\n",
    "    dx = xs - xs.mean()\n",
    "    dy = ys - ys.mean()\n",
    "    result = 0\n",
    "    for i in range(len(xs)):\n",
    "        dot = dx[i] * dy[i]\n",
    "        result = result + dot\n",
    "    cov = result / len(xs)\n",
    "    return cov\n",
    "\n",
    "#Pearson's correlation:\n",
    "def pCorr(xs, ys):\n",
    "    xs = standardize(np.asarray(xs))\n",
    "    ys = standardize(np.asarray(ys))\n",
    "    \n",
    "    stdx = xs.std()\n",
    "    stdy = ys.std()\n",
    "    p = Cov(xs=xs, ys=ys) / (stdx * stdy)\n",
    "    return p\n",
    "    "
   ]
  },
  {
   "cell_type": "code",
   "execution_count": 107,
   "metadata": {
    "collapsed": false
   },
   "outputs": [
    {
     "data": {
      "text/plain": [
       "0.62119267811877188"
      ]
     },
     "execution_count": 107,
     "metadata": {},
     "output_type": "execute_result"
    }
   ],
   "source": [
    "pCorr(xs=HRs, ys=SALARYs)"
   ]
  },
  {
   "cell_type": "code",
   "execution_count": 108,
   "metadata": {
    "collapsed": false
   },
   "outputs": [
    {
     "data": {
      "text/plain": [
       "0.62119267811877188"
      ]
     },
     "execution_count": 108,
     "metadata": {},
     "output_type": "execute_result"
    }
   ],
   "source": [
    "Cov(xs=HRs, ys=SALARYs)"
   ]
  },
  {
   "cell_type": "markdown",
   "metadata": {},
   "source": [
    "**Spearman rank correlation**"
   ]
  },
  {
   "cell_type": "code",
   "execution_count": 109,
   "metadata": {
    "collapsed": true
   },
   "outputs": [],
   "source": [
    "def spearmanCorr(xs, ys):\n",
    "    xranks = pd.Series(xs).rank()\n",
    "    yranks = pd.Series(ys).rank()\n",
    "    return xs.corr(ys, method='spearman')"
   ]
  },
  {
   "cell_type": "code",
   "execution_count": 110,
   "metadata": {
    "collapsed": false
   },
   "outputs": [
    {
     "data": {
      "text/plain": [
       "0.67345935573838023"
      ]
     },
     "execution_count": 110,
     "metadata": {},
     "output_type": "execute_result"
    }
   ],
   "source": [
    "spearmanCorr(xs=dfm.HR, ys=dfm.salary)"
   ]
  },
  {
   "cell_type": "markdown",
   "metadata": {},
   "source": [
    "Using Spearman rank correlation we can mitigate the effect of outliers and skewed distributions.\n",
    "\n",
    "A Spearman rank correlation of 0.67 suggests a strong positive linear relationship between number of homeruns and salary. Meaning the the more homeruns a player has, the more likely his salary will increase. This relationship is not surprising as players strive to achieve homerun milestones and may even receive bonuses by the number of homeruns they get. "
   ]
  },
  {
   "cell_type": "code",
   "execution_count": 111,
   "metadata": {
    "collapsed": false
   },
   "outputs": [
    {
     "data": {
      "text/html": [
       "<div>\n",
       "<table border=\"1\" class=\"dataframe\">\n",
       "  <thead>\n",
       "    <tr style=\"text-align: right;\">\n",
       "      <th></th>\n",
       "      <th>HR</th>\n",
       "      <th>SB</th>\n",
       "      <th>CS</th>\n",
       "      <th>BB</th>\n",
       "      <th>SO</th>\n",
       "      <th>IBB</th>\n",
       "      <th>HBP</th>\n",
       "      <th>Awards</th>\n",
       "      <th>Allstar</th>\n",
       "    </tr>\n",
       "  </thead>\n",
       "  <tbody>\n",
       "    <tr>\n",
       "      <th>34</th>\n",
       "      <td>2</td>\n",
       "      <td>3.0</td>\n",
       "      <td>0.0</td>\n",
       "      <td>8</td>\n",
       "      <td>29.0</td>\n",
       "      <td>0.0</td>\n",
       "      <td>1.0</td>\n",
       "      <td>0</td>\n",
       "      <td>0</td>\n",
       "    </tr>\n",
       "    <tr>\n",
       "      <th>62</th>\n",
       "      <td>18</td>\n",
       "      <td>10.0</td>\n",
       "      <td>5.0</td>\n",
       "      <td>181</td>\n",
       "      <td>211.0</td>\n",
       "      <td>14.0</td>\n",
       "      <td>23.0</td>\n",
       "      <td>0</td>\n",
       "      <td>0</td>\n",
       "    </tr>\n",
       "    <tr>\n",
       "      <th>77</th>\n",
       "      <td>51</td>\n",
       "      <td>144.0</td>\n",
       "      <td>58.0</td>\n",
       "      <td>257</td>\n",
       "      <td>613.0</td>\n",
       "      <td>16.0</td>\n",
       "      <td>48.0</td>\n",
       "      <td>1</td>\n",
       "      <td>1</td>\n",
       "    </tr>\n",
       "    <tr>\n",
       "      <th>85</th>\n",
       "      <td>9</td>\n",
       "      <td>90.0</td>\n",
       "      <td>36.0</td>\n",
       "      <td>187</td>\n",
       "      <td>164.0</td>\n",
       "      <td>10.0</td>\n",
       "      <td>20.0</td>\n",
       "      <td>0</td>\n",
       "      <td>0</td>\n",
       "    </tr>\n",
       "    <tr>\n",
       "      <th>89</th>\n",
       "      <td>54</td>\n",
       "      <td>14.0</td>\n",
       "      <td>1.0</td>\n",
       "      <td>139</td>\n",
       "      <td>472.0</td>\n",
       "      <td>6.0</td>\n",
       "      <td>9.0</td>\n",
       "      <td>0</td>\n",
       "      <td>0</td>\n",
       "    </tr>\n",
       "  </tbody>\n",
       "</table>\n",
       "</div>"
      ],
      "text/plain": [
       "    HR     SB    CS   BB     SO   IBB   HBP  Awards  Allstar\n",
       "34   2    3.0   0.0    8   29.0   0.0   1.0       0        0\n",
       "62  18   10.0   5.0  181  211.0  14.0  23.0       0        0\n",
       "77  51  144.0  58.0  257  613.0  16.0  48.0       1        1\n",
       "85   9   90.0  36.0  187  164.0  10.0  20.0       0        0\n",
       "89  54   14.0   1.0  139  472.0   6.0   9.0       0        0"
      ]
     },
     "execution_count": 111,
     "metadata": {},
     "output_type": "execute_result"
    }
   ],
   "source": [
    "HRvall.head()"
   ]
  },
  {
   "cell_type": "markdown",
   "metadata": {},
   "source": [
    "**pCorr_summary** function will compute pearson's correlations for Homeruns and the rest of the other variables."
   ]
  },
  {
   "cell_type": "code",
   "execution_count": 112,
   "metadata": {
    "collapsed": false
   },
   "outputs": [
    {
     "name": "stdout",
     "output_type": "stream",
     "text": [
      "Pearson Correlations of HR and Other Variables\n",
      "--------------\n",
      "Stolen Bases: 0.09\n",
      "Caught Stealing: 0.151\n",
      "Walked: 0.719\n",
      "Strike Out: 0.814\n",
      "Intentional Walk: : 0.591\n",
      "Hit By Pitch: 0.552\n",
      "Awards: 0.383\n",
      "Allstar: 0.534\n"
     ]
    }
   ],
   "source": [
    "def pCorr_summary(df):\n",
    "    i=1\n",
    "    j=0\n",
    "    var_names = ['Stolen Bases', 'Caught Stealing', 'Walked', 'Strike Out',\n",
    "                'Intentional Walk: ', 'Hit By Pitch', 'Awards', 'Allstar']\n",
    "    print('Pearson Correlations of HR and Other Variables\\n--------------')\n",
    "    while i < len(df.columns): \n",
    "        z = pCorr(xs=df.HR, ys=df.iloc[:,i])\n",
    "        print(var_names[j] + ': ' + str(round(z, 3)))\n",
    "        i+=1\n",
    "        j+=1\n",
    "        \n",
    "pCorr_summary(df=HRvall)"
   ]
  },
  {
   "cell_type": "markdown",
   "metadata": {},
   "source": [
    "The variables with the strongest correlations with Homeruns are: BB, SO,IBB, HBP, Allstar. We can look at these numbers and have a case to claim that the more homeruns a player amasses, the more they can expect to be walked, struck out, Intentionally walked hit by a pitch and make the Allstar roster.\n",
    "\n",
    "What I found interesting that the strongest correlation was between **HR** and **SO**. While to a fan and avid watcher of baseball might know that players with more homeruns tend to strike out more, this trend may not be so obvious to casual viewers who may assume that powerhouse hitters are generally great hitters who dont strike out as much. This strong correlation may imply a type of playstyle that homerun hitters have. They risk striking out in order to hit a homerun. Hitting homeruns may involve a different style of batting than those that focus on getting on base and making contact with the ball. We may have a case to say that as player focuses more on pulling the ball he increases his chances of striking out.\n",
    "\n",
    "Of course while the variables are correlated, we can not claim that one causes the other, there may be other hidden variables at work, such as the number of games, at bats a player has had. It could be that while the number of homeruns go up this player may get more chances to play in games and be at the top of the batting order where he can get more plate appearances than those at the bottom of the lineup."
   ]
  },
  {
   "cell_type": "code",
   "execution_count": 113,
   "metadata": {
    "collapsed": false
   },
   "outputs": [
    {
     "data": {
      "image/png": "[encoded data removed]",
      "text/plain": [
       "<matplotlib.figure.Figure at 0x126b0668>"
      ]
     },
     "metadata": {},
     "output_type": "display_data"
    }
   ],
   "source": [
    "HRvall = df_ten_years[['HR','SB', 'CS', 'BB', 'SO', 'IBB', 'HBP', 'Awards', 'Allstar']]\n",
    "fig2, axes = plt.subplots(2, 4, figsize=(12,9))\n",
    "fig2.suptitle('Homeruns Correlations with Other Variables')\n",
    "plt.subplots_adjust(wspace=0.25)\n",
    "k = 1\n",
    "for i in range(2):\n",
    "    \n",
    "    for j in range(4):\n",
    "        axes[i,j].scatter(HRvall.iloc[:,0], HRvall.iloc[:,k])\n",
    "        axes[i,j].set_title(HRvall.columns[k])\n",
    "        axes[i,j].set_xlabel( 'p = ' + str(round(pCorr(HRvall.HR, HRvall.iloc[:,k]),3)))\n",
    "        #axes[i,j].set_ybound(lower=0); axes[i,j].set_xbound(lower=0)\n",
    "        #plt.ylabel(HRvall.columns[k])\n",
    "        k+= 1"
   ]
  },
  {
   "cell_type": "markdown",
   "metadata": {},
   "source": [
    "The scatter plots made from players who played exactly 10 years in the league. By making career a constant, we can look at the relationship between homeruns and other metrics without time(career length) coming into effect. Since a player with more years in the league will naturally have more opportunities to get more homeruns, walks, awards, etc..."
   ]
  },
  {
   "cell_type": "markdown",
   "metadata": {},
   "source": [
    "## IV. Conclusions"
   ]
  },
  {
   "cell_type": "markdown",
   "metadata": {},
   "source": [
    "In this study I was able to provide evidence that higher paid players generally have higher stats across the board. With the largest differences being hits, homeruns, awards, and allstar appearances and even weight. Factoring in variability in the means and conducting hypothesis tests using 95% confidence intervals it was shown that higher salary players score higher in all the variables. A player aggregating more stats is going to be in the higher salary bracket, thus showing that salaries are largely aggregate performance based. \n",
    "\n",
    "Homeruns was plotted against the other variables in order to identify any linear relationship. Correlations were computed to quantify these relationships and it was found that the barring SB, CS the other variables had some strong correlation with the lowest being Awards with a Pearson's correlation of 0.383. The two highest correlations were BB with pearson's correlation of .719, and surprisingly SO with pearson's correlaton .814.\n",
    "\n",
    "Players with more homeruns can expect to be get walked more intentionally or unintentionally possibly because pitchers are more likely to 'pitch around' batters with reputation for hitting a lot of homeruns.\n",
    "\n",
    "My take on the strong positive correlation between homeruns and strikeouts is that baseball is a volatile sport, in that it can be expected that even the best hitters strike out a lot. A good batter can strike out many times however players who have higher salaries all tend to have higher stats in important metrics such as hits and homeruns. A player can almost make up for strikeouts by getting hits and homeruns. As long as a player can aggregate more hits and homeruns, he will most likely be a higher paid player. As such a strike out is not really as negative a stat as it seems. Of course if all a player does at the plate is consistently strike out that would be a different story.\n",
    "\n",
    "**Limitations of the data set**\n",
    "\n",
    "It must be mentioned that the data is limited in that it does not take into account a player's commercial value. There are players that potentially make higher salaries because of the market they play in. Factors like jersey sales and fan attendance is not available in the data. In the study itself I did not include all the variables for hitters such as GIDP, which I saw as not an important stat since players largely cannot control when they hit into double plays. GIDP can be seen as a worst outcome than SO. RBI is another stat that could be looked into more thoroughly as they translate into points and may be seen as an important metric, they were not looked into in this study.\n",
    "\n",
    "Another limitation is that as was mentioned before correlation does not imply causation. For example more homeruns may not cause more times being walked and struck out, there may be other factors such as homerun hitters being at the top of the batting order thus receiving more batting opportunities, it may also be a natural phenomena that the more a player bats the more he should expect to be walked and struck out. Pitchers 'pitching around' batters with a lot of homeruns and power hitters striking out more are interpretations of the data. Although it would be interesting to further study these relationships for more thorough results.\n",
    "\n",
    "In analyzing lower and high salary players, I separated them by below and above the average salary. Others may choose to define lower and higher salary players differently. One may choose to define higher paid players as being in the 75th percent quantile rather than the 50th. However my method ensures nearness in the sizes of both groups.\n",
    "\n",
    "Others may also choose include pitchers in their study, I did not include them for the reason that pitchers are evaluated on completely different stats than other position players.\n",
    "\n",
    "**Possible future research**\n",
    "\n",
    "Future research on the subject of the correlation between Homeruns and Strikeouts can be done, by including more variables such as At bats and Games Played to show whether players who have more homeruns generally play in more games and have more opportunities to bat than players who get less homeruns. A more efficient means of displaying correlations between variables could also be done with a covariance matrix.\n",
    "\n",
    "Finally, linear regression models can be constructed in order to see how well predictions can be made on salaries, and homeruns. The method for this regression would have to account for the strong right skew of the salary and homerun distributions."
   ]
  },
  {
   "cell_type": "markdown",
   "metadata": {},
   "source": [
    "## References\n",
    "Mckinney, Wes. (2013). Python for Data Analysis. Sebastopol, CA: O'Reilly Media, Inc.\n",
    "\n",
    "Diez, David. M. (2015). OpenIntro Statistics. Creative Commons.\n",
    "\n",
    "Downey, Allen. B. (2014). Think Stats: Exploratory Data Analysis in Python. Needham, MA: Green Tea Press.\n",
    "\n",
    "Reddit.(2016).\"ELI5: What does 'Arbitration Eligible' mean?\".https://www.reddit.com/r/baseball/comments/3rs70q/eli5_what_does_arbitration_eligible_mean/cwqu9ea/"
   ]
  }
 ],
 "metadata": {
  "anaconda-cloud": {},
  "kernelspec": {
   "display_name": "Python [conda root]",
   "language": "python",
   "name": "conda-root-py"
  },
  "language_info": {
   "codemirror_mode": {
    "name": "ipython",
    "version": 2
   },
   "file_extension": ".py",
   "mimetype": "text/x-python",
   "name": "python",
   "nbconvert_exporter": "python",
   "pygments_lexer": "ipython2",
   "version": "2.7.12"
  }
 },
 "nbformat": 4,
 "nbformat_minor": 1
}
